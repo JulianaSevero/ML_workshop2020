{
 "cells": [
  {
   "cell_type": "markdown",
   "metadata": {},
   "source": [
    "### Mounting your google drive on Colab Noetebook"
   ]
  },
  {
   "cell_type": "code",
   "execution_count": 1,
   "metadata": {},
   "outputs": [],
   "source": [
    "from google.colab import drive\n",
    "## esto te va a pedir autorización. \n",
    "# Entra al link. Dale los permisos. Copiate el passw y pegalo acá donde te lo pide\n",
    "drive.mount('/content/drive')"
   ]
  },
  {
   "cell_type": "code",
   "execution_count": 2,
   "metadata": {},
   "outputs": [],
   "source": [
    "## remplazá 'workshopml'\n",
    "# por el nombre que le hayas puesto a esa carpeta en drive si usaste otro distinto\n",
    "#%cd drive/My Drive/workshopml/ML_workshop2020/  \n",
    "datapath = './data/clinvarHC_modeling.csv.gz'\n"
   ]
  },
  {
   "cell_type": "code",
   "execution_count": 3,
   "metadata": {},
   "outputs": [],
   "source": [
    "%matplotlib inline\n",
    "\n",
    "# data manipulation\n",
    "import pandas as pd\n",
    "import numpy as np\n",
    "\n",
    "## learning\n",
    "from sklearn.model_selection import train_test_split\n",
    "from sklearn.linear_model import LogisticRegression\n",
    "from sklearn.pipeline import Pipeline\n",
    "\n",
    "## preprocessing\n",
    "from sklearn.impute import SimpleImputer\n",
    "from sklearn.preprocessing import OneHotEncoder\n",
    "from sklearn.compose import ColumnTransformer\n",
    "from sklearn.preprocessing import StandardScaler\n",
    "\n",
    "\n",
    "### model performance\n",
    "from sklearn import metrics\n",
    "\n",
    "#ploting modules\n",
    "import matplotlib\n",
    "from matplotlib import pyplot as plt\n",
    "import seaborn\n",
    "\n"
   ]
  },
  {
   "cell_type": "code",
   "execution_count": 4,
   "metadata": {},
   "outputs": [
    {
     "data": {
      "text/html": [
       "<div>\n",
       "<style scoped>\n",
       "    .dataframe tbody tr th:only-of-type {\n",
       "        vertical-align: middle;\n",
       "    }\n",
       "\n",
       "    .dataframe tbody tr th {\n",
       "        vertical-align: top;\n",
       "    }\n",
       "\n",
       "    .dataframe thead th {\n",
       "        text-align: right;\n",
       "    }\n",
       "</style>\n",
       "<table border=\"1\" class=\"dataframe\">\n",
       "  <thead>\n",
       "    <tr style=\"text-align: right;\">\n",
       "      <th></th>\n",
       "      <th>gerp_gerp_nr</th>\n",
       "      <th>gerp_gerp_rs</th>\n",
       "      <th>linsight_value</th>\n",
       "      <th>phastcons_phastcons100_vert</th>\n",
       "      <th>phastcons_phastcons30_mamm</th>\n",
       "      <th>phylop_phylop100_vert</th>\n",
       "      <th>phylop_phylop100_vert_r</th>\n",
       "      <th>phylop_phylop30_mamm</th>\n",
       "      <th>segway_sum_score</th>\n",
       "      <th>segway_mean_score</th>\n",
       "      <th>...</th>\n",
       "      <th>intact_counts</th>\n",
       "      <th>gnomad_gene_oe_lof_min</th>\n",
       "      <th>gnomad_gene_oe_mis_min</th>\n",
       "      <th>gnomad_gene_oe_syn_min</th>\n",
       "      <th>gnomad_gene_lof_z_max</th>\n",
       "      <th>gnomad_gene_mis_z_max</th>\n",
       "      <th>gnomad_gene_syn_z_max</th>\n",
       "      <th>gnomad_gene_pLI_max</th>\n",
       "      <th>gnomad_gene_pRec_max</th>\n",
       "      <th>gnomad_gene_pNull_max</th>\n",
       "    </tr>\n",
       "    <tr>\n",
       "      <th>ChrPosRefAlt</th>\n",
       "      <th></th>\n",
       "      <th></th>\n",
       "      <th></th>\n",
       "      <th></th>\n",
       "      <th></th>\n",
       "      <th></th>\n",
       "      <th></th>\n",
       "      <th></th>\n",
       "      <th></th>\n",
       "      <th></th>\n",
       "      <th></th>\n",
       "      <th></th>\n",
       "      <th></th>\n",
       "      <th></th>\n",
       "      <th></th>\n",
       "      <th></th>\n",
       "      <th></th>\n",
       "      <th></th>\n",
       "      <th></th>\n",
       "      <th></th>\n",
       "      <th></th>\n",
       "    </tr>\n",
       "  </thead>\n",
       "  <tbody>\n",
       "    <tr>\n",
       "      <th>chr21-46306709-C-T</th>\n",
       "      <td>4.70</td>\n",
       "      <td>-0.589</td>\n",
       "      <td>NaN</td>\n",
       "      <td>0.990</td>\n",
       "      <td>0.971</td>\n",
       "      <td>2.374</td>\n",
       "      <td>0.43929</td>\n",
       "      <td>0.019</td>\n",
       "      <td>NaN</td>\n",
       "      <td>NaN</td>\n",
       "      <td>...</td>\n",
       "      <td>22.0</td>\n",
       "      <td>0.000000</td>\n",
       "      <td>0.87617</td>\n",
       "      <td>0.96747</td>\n",
       "      <td>NaN</td>\n",
       "      <td>0.96463</td>\n",
       "      <td>0.13453</td>\n",
       "      <td>NaN</td>\n",
       "      <td>NaN</td>\n",
       "      <td>NaN</td>\n",
       "    </tr>\n",
       "    <tr>\n",
       "      <th>chr4-104067195-T-C</th>\n",
       "      <td>4.84</td>\n",
       "      <td>-0.518</td>\n",
       "      <td>NaN</td>\n",
       "      <td>0.000</td>\n",
       "      <td>0.006</td>\n",
       "      <td>-0.832</td>\n",
       "      <td>0.04507</td>\n",
       "      <td>0.170</td>\n",
       "      <td>NaN</td>\n",
       "      <td>NaN</td>\n",
       "      <td>...</td>\n",
       "      <td>28.0</td>\n",
       "      <td>0.088125</td>\n",
       "      <td>0.52606</td>\n",
       "      <td>0.85277</td>\n",
       "      <td>8.4223</td>\n",
       "      <td>2.20930</td>\n",
       "      <td>0.63648</td>\n",
       "      <td>8.850800e-01</td>\n",
       "      <td>9.741200e-01</td>\n",
       "      <td>2.696400e-10</td>\n",
       "    </tr>\n",
       "    <tr>\n",
       "      <th>chrX-153297737-G-C</th>\n",
       "      <td>5.93</td>\n",
       "      <td>5.060</td>\n",
       "      <td>NaN</td>\n",
       "      <td>1.000</td>\n",
       "      <td>0.999</td>\n",
       "      <td>5.393</td>\n",
       "      <td>0.66025</td>\n",
       "      <td>0.245</td>\n",
       "      <td>NaN</td>\n",
       "      <td>NaN</td>\n",
       "      <td>...</td>\n",
       "      <td>24.0</td>\n",
       "      <td>0.000000</td>\n",
       "      <td>0.83348</td>\n",
       "      <td>1.33280</td>\n",
       "      <td>2.5441</td>\n",
       "      <td>0.24759</td>\n",
       "      <td>-8.06820</td>\n",
       "      <td>7.838600e-01</td>\n",
       "      <td>4.625100e-01</td>\n",
       "      <td>9.647300e-02</td>\n",
       "    </tr>\n",
       "    <tr>\n",
       "      <th>chr12-116429247-T-C</th>\n",
       "      <td>5.35</td>\n",
       "      <td>4.170</td>\n",
       "      <td>NaN</td>\n",
       "      <td>0.996</td>\n",
       "      <td>1.000</td>\n",
       "      <td>2.519</td>\n",
       "      <td>0.45206</td>\n",
       "      <td>1.138</td>\n",
       "      <td>NaN</td>\n",
       "      <td>NaN</td>\n",
       "      <td>...</td>\n",
       "      <td>16.0</td>\n",
       "      <td>0.000000</td>\n",
       "      <td>0.59238</td>\n",
       "      <td>0.94428</td>\n",
       "      <td>9.4346</td>\n",
       "      <td>4.06230</td>\n",
       "      <td>0.24178</td>\n",
       "      <td>1.000000e+00</td>\n",
       "      <td>3.926500e-17</td>\n",
       "      <td>2.125300e-41</td>\n",
       "    </tr>\n",
       "    <tr>\n",
       "      <th>chr17-10535216-T-C</th>\n",
       "      <td>4.91</td>\n",
       "      <td>1.220</td>\n",
       "      <td>NaN</td>\n",
       "      <td>0.045</td>\n",
       "      <td>0.057</td>\n",
       "      <td>1.768</td>\n",
       "      <td>0.38141</td>\n",
       "      <td>0.118</td>\n",
       "      <td>NaN</td>\n",
       "      <td>NaN</td>\n",
       "      <td>...</td>\n",
       "      <td>11.0</td>\n",
       "      <td>0.491950</td>\n",
       "      <td>0.82734</td>\n",
       "      <td>1.04760</td>\n",
       "      <td>4.7735</td>\n",
       "      <td>2.01000</td>\n",
       "      <td>-0.76659</td>\n",
       "      <td>2.880900e-20</td>\n",
       "      <td>1.000000e+00</td>\n",
       "      <td>4.476500e-08</td>\n",
       "    </tr>\n",
       "  </tbody>\n",
       "</table>\n",
       "<p>5 rows × 39 columns</p>\n",
       "</div>"
      ],
      "text/plain": [
       "                     gerp_gerp_nr  gerp_gerp_rs  linsight_value  \\\n",
       "ChrPosRefAlt                                                      \n",
       "chr21-46306709-C-T           4.70        -0.589             NaN   \n",
       "chr4-104067195-T-C           4.84        -0.518             NaN   \n",
       "chrX-153297737-G-C           5.93         5.060             NaN   \n",
       "chr12-116429247-T-C          5.35         4.170             NaN   \n",
       "chr17-10535216-T-C           4.91         1.220             NaN   \n",
       "\n",
       "                     phastcons_phastcons100_vert  phastcons_phastcons30_mamm  \\\n",
       "ChrPosRefAlt                                                                   \n",
       "chr21-46306709-C-T                         0.990                       0.971   \n",
       "chr4-104067195-T-C                         0.000                       0.006   \n",
       "chrX-153297737-G-C                         1.000                       0.999   \n",
       "chr12-116429247-T-C                        0.996                       1.000   \n",
       "chr17-10535216-T-C                         0.045                       0.057   \n",
       "\n",
       "                     phylop_phylop100_vert  phylop_phylop100_vert_r  \\\n",
       "ChrPosRefAlt                                                          \n",
       "chr21-46306709-C-T                   2.374                  0.43929   \n",
       "chr4-104067195-T-C                  -0.832                  0.04507   \n",
       "chrX-153297737-G-C                   5.393                  0.66025   \n",
       "chr12-116429247-T-C                  2.519                  0.45206   \n",
       "chr17-10535216-T-C                   1.768                  0.38141   \n",
       "\n",
       "                     phylop_phylop30_mamm  segway_sum_score  \\\n",
       "ChrPosRefAlt                                                  \n",
       "chr21-46306709-C-T                  0.019               NaN   \n",
       "chr4-104067195-T-C                  0.170               NaN   \n",
       "chrX-153297737-G-C                  0.245               NaN   \n",
       "chr12-116429247-T-C                 1.138               NaN   \n",
       "chr17-10535216-T-C                  0.118               NaN   \n",
       "\n",
       "                     segway_mean_score  ...  intact_counts  \\\n",
       "ChrPosRefAlt                            ...                  \n",
       "chr21-46306709-C-T                 NaN  ...           22.0   \n",
       "chr4-104067195-T-C                 NaN  ...           28.0   \n",
       "chrX-153297737-G-C                 NaN  ...           24.0   \n",
       "chr12-116429247-T-C                NaN  ...           16.0   \n",
       "chr17-10535216-T-C                 NaN  ...           11.0   \n",
       "\n",
       "                     gnomad_gene_oe_lof_min gnomad_gene_oe_mis_min  \\\n",
       "ChrPosRefAlt                                                         \n",
       "chr21-46306709-C-T                 0.000000                0.87617   \n",
       "chr4-104067195-T-C                 0.088125                0.52606   \n",
       "chrX-153297737-G-C                 0.000000                0.83348   \n",
       "chr12-116429247-T-C                0.000000                0.59238   \n",
       "chr17-10535216-T-C                 0.491950                0.82734   \n",
       "\n",
       "                     gnomad_gene_oe_syn_min  gnomad_gene_lof_z_max  \\\n",
       "ChrPosRefAlt                                                         \n",
       "chr21-46306709-C-T                  0.96747                    NaN   \n",
       "chr4-104067195-T-C                  0.85277                 8.4223   \n",
       "chrX-153297737-G-C                  1.33280                 2.5441   \n",
       "chr12-116429247-T-C                 0.94428                 9.4346   \n",
       "chr17-10535216-T-C                  1.04760                 4.7735   \n",
       "\n",
       "                    gnomad_gene_mis_z_max gnomad_gene_syn_z_max  \\\n",
       "ChrPosRefAlt                                                      \n",
       "chr21-46306709-C-T                0.96463               0.13453   \n",
       "chr4-104067195-T-C                2.20930               0.63648   \n",
       "chrX-153297737-G-C                0.24759              -8.06820   \n",
       "chr12-116429247-T-C               4.06230               0.24178   \n",
       "chr17-10535216-T-C                2.01000              -0.76659   \n",
       "\n",
       "                    gnomad_gene_pLI_max gnomad_gene_pRec_max  \\\n",
       "ChrPosRefAlt                                                   \n",
       "chr21-46306709-C-T                  NaN                  NaN   \n",
       "chr4-104067195-T-C         8.850800e-01         9.741200e-01   \n",
       "chrX-153297737-G-C         7.838600e-01         4.625100e-01   \n",
       "chr12-116429247-T-C        1.000000e+00         3.926500e-17   \n",
       "chr17-10535216-T-C         2.880900e-20         1.000000e+00   \n",
       "\n",
       "                     gnomad_gene_pNull_max  \n",
       "ChrPosRefAlt                                \n",
       "chr21-46306709-C-T                     NaN  \n",
       "chr4-104067195-T-C            2.696400e-10  \n",
       "chrX-153297737-G-C            9.647300e-02  \n",
       "chr12-116429247-T-C           2.125300e-41  \n",
       "chr17-10535216-T-C            4.476500e-08  \n",
       "\n",
       "[5 rows x 39 columns]"
      ]
     },
     "metadata": {},
     "output_type": "display_data"
    },
    {
     "data": {
      "text/html": [
       "<div>\n",
       "<style scoped>\n",
       "    .dataframe tbody tr th:only-of-type {\n",
       "        vertical-align: middle;\n",
       "    }\n",
       "\n",
       "    .dataframe tbody tr th {\n",
       "        vertical-align: top;\n",
       "    }\n",
       "\n",
       "    .dataframe thead th {\n",
       "        text-align: right;\n",
       "    }\n",
       "</style>\n",
       "<table border=\"1\" class=\"dataframe\">\n",
       "  <thead>\n",
       "    <tr style=\"text-align: right;\">\n",
       "      <th></th>\n",
       "      <th>ClinvarHC</th>\n",
       "    </tr>\n",
       "    <tr>\n",
       "      <th>ChrPosRefAlt</th>\n",
       "      <th></th>\n",
       "    </tr>\n",
       "  </thead>\n",
       "  <tbody>\n",
       "    <tr>\n",
       "      <th>chr21-46306709-C-T</th>\n",
       "      <td>0</td>\n",
       "    </tr>\n",
       "    <tr>\n",
       "      <th>chr4-104067195-T-C</th>\n",
       "      <td>0</td>\n",
       "    </tr>\n",
       "    <tr>\n",
       "      <th>chrX-153297737-G-C</th>\n",
       "      <td>1</td>\n",
       "    </tr>\n",
       "    <tr>\n",
       "      <th>chr12-116429247-T-C</th>\n",
       "      <td>0</td>\n",
       "    </tr>\n",
       "    <tr>\n",
       "      <th>chr17-10535216-T-C</th>\n",
       "      <td>0</td>\n",
       "    </tr>\n",
       "  </tbody>\n",
       "</table>\n",
       "</div>"
      ],
      "text/plain": [
       "                     ClinvarHC\n",
       "ChrPosRefAlt                  \n",
       "chr21-46306709-C-T           0\n",
       "chr4-104067195-T-C           0\n",
       "chrX-153297737-G-C           1\n",
       "chr12-116429247-T-C          0\n",
       "chr17-10535216-T-C           0"
      ]
     },
     "metadata": {},
     "output_type": "display_data"
    }
   ],
   "source": [
    "SEED = 2718281\n",
    "data = pd.read_csv(datapath,sep = ',',index_col='ChrPosRefAlt',nrows = 500)\n",
    "X,y = data.drop(['ClinvarHC'],axis = 1), data[['ClinvarHC']]\n",
    "display(X.head())\n",
    "display(y.head())\n",
    "#y.columns = ['ChrPosRefAlt','ClinvarHC']\n",
    "#y.set_index(['ChrPosRefAlt'],inplace = True) "
   ]
  },
  {
   "cell_type": "markdown",
   "metadata": {},
   "source": [
    "### Hacemos el split en training y tesing sets. "
   ]
  },
  {
   "cell_type": "code",
   "execution_count": 5,
   "metadata": {},
   "outputs": [],
   "source": [
    "# Prueben con esta\n",
    "#X_train, X_test, y_train, y_test = train_test_split(X, y, test_size=0.20, random_state=100)\n",
    "#display(y.ClinvarHC.value_counts(normalize = True)[1]),\n",
    "#display(y_train.ClinvarHC.value_counts(normalize = True)[1]), \n",
    "#y_test.ClinvarHC.value_counts(normalize = True)[1]\n",
    "\n",
    "\n",
    "# La forma correcta, para respetar la proporción de categorías:\n",
    "\n",
    "X_train, X_test, y_train, y_test = train_test_split(X, y, test_size=0.50, random_state=SEED,stratify = y)\n"
   ]
  },
  {
   "cell_type": "markdown",
   "metadata": {},
   "source": [
    "### Podemos ya entrenar el primer modelo? \n",
    "* Falla, por qué?"
   ]
  },
  {
   "cell_type": "code",
   "execution_count": 6,
   "metadata": {},
   "outputs": [],
   "source": [
    "#LR = LogisticRegression(random_state=0).fit(X_train, y_train) # est va a romperse..."
   ]
  },
  {
   "cell_type": "markdown",
   "metadata": {},
   "source": [
    "### Básiscamente tenemos 2 grandes problemas\n",
    "* 1) Los Features categóricos no tienen un tratamiento numérico. Debemos binarizarlos. \n",
    "* 2) Lo Features continuos tienen Nulls, y una regresión Logística no puede lidiar con Nulls. \n",
    "* 3) Además es conveniente escalar las variables antes de correr una RL (aunque esto último no impide correr el modelo)"
   ]
  },
  {
   "cell_type": "markdown",
   "metadata": {},
   "source": [
    "# Algunas notas antes de empezar\n",
    "\n",
    "#### Por favor, no preprocecsar el Dataset en forma global antes de arrancar. \n",
    "* Lo van a ver a menudo, pero no es el camino correcto. \n",
    "* Puede traer problemas de generalización\n"
   ]
  },
  {
   "cell_type": "markdown",
   "metadata": {},
   "source": [
    "\n",
    "### Lo correcto es trabajar con pipelines. \n",
    "* Los pipelines son una manera de integrar nuestro modelo. \n",
    "\n",
    "* Nuestro modelo no tenemos que pensarlo como, por ejemplo una \"regresión logística\", sobre datos ya preprocesados de antemano, sino que nos permite pensar al preprocesamiento, imputación, y otras transformaciones como parte del modelo mismo).\n",
    "\n"
   ]
  },
  {
   "cell_type": "markdown",
   "metadata": {},
   "source": [
    "## Empezemos detectando las variables categóricas."
   ]
  },
  {
   "cell_type": "code",
   "execution_count": 7,
   "metadata": {},
   "outputs": [
    {
     "name": "stdout",
     "output_type": "stream",
     "text": [
      "tenemos 33 variables numéricas\n",
      "tenemos 6 variables categóricas\n"
     ]
    },
    {
     "data": {
      "text/plain": [
       "['interpro_domain_simple',\n",
       " 'ess_gene_ess_gene',\n",
       " 'ess_gene_ess_gene_crispr',\n",
       " 'ess_gene_ess_gene_crispr2',\n",
       " 'ess_gene_ess_gene_gene_trap',\n",
       " 'exac_gene_exac_cnv_flag']"
      ]
     },
     "execution_count": 7,
     "metadata": {},
     "output_type": "execute_result"
    }
   ],
   "source": [
    "categorical_feature_mask = X_train.dtypes==object       # esto nos da un vector booleano \n",
    "categorical_columns = X_train.columns[categorical_feature_mask].tolist()  # acá picnhamos los nombres de esas columnas\n",
    "\n",
    "numerical_columns = X_train.columns[~X_train.columns.isin(categorical_columns)] # defino las numéricas como el complemento de las categóricas \n",
    "print(\"tenemos %s variables numéricas\"%len(numerical_columns))\n",
    "print(\"tenemos %s variables categóricas\"%len(categorical_columns))\n",
    "\n",
    "categorical_columns"
   ]
  },
  {
   "cell_type": "markdown",
   "metadata": {},
   "source": [
    "* Ojo, pues caundo vectorizemos las variables categóricas, tendremos una variable por cada una de sus categorías (-1 para evitar colinealidades)"
   ]
  },
  {
   "cell_type": "code",
   "execution_count": 8,
   "metadata": {},
   "outputs": [
    {
     "name": "stdout",
     "output_type": "stream",
     "text": [
      "Número de Categorías por Variable\n"
     ]
    },
    {
     "data": {
      "text/plain": [
       "interpro_domain_simple         7\n",
       "ess_gene_ess_gene              2\n",
       "ess_gene_ess_gene_crispr       2\n",
       "ess_gene_ess_gene_crispr2      3\n",
       "ess_gene_ess_gene_gene_trap    4\n",
       "exac_gene_exac_cnv_flag        2\n",
       "dtype: int64"
      ]
     },
     "execution_count": 8,
     "metadata": {},
     "output_type": "execute_result"
    }
   ],
   "source": [
    "print ('Número de Categorías por Variable')\n",
    "X_train[categorical_columns].apply(lambda x: x.nunique())\n",
    "# Esto nos dice que son 21 categorías\n"
   ]
  },
  {
   "cell_type": "code",
   "execution_count": 9,
   "metadata": {},
   "outputs": [
    {
     "name": "stdout",
     "output_type": "stream",
     "text": [
      "Porcentaje de filas Null por Variable\n"
     ]
    },
    {
     "data": {
      "text/plain": [
       "<matplotlib.axes._subplots.AxesSubplot at 0x7fae2cf69b00>"
      ]
     },
     "execution_count": 9,
     "metadata": {},
     "output_type": "execute_result"
    },
    {
     "data": {
      "image/png": "[encoded data removed]",
      "text/plain": [
       "<Figure size 432x288 with 1 Axes>"
      ]
     },
     "metadata": {
      "needs_background": "light"
     },
     "output_type": "display_data"
    }
   ],
   "source": [
    "print ('Porcentaje de filas Null por Variable')\n",
    "X_train[categorical_columns].apply(lambda x: x.isnull().sum()/len(x)).plot(kind = 'bar') \n",
    "# Y hay varios nulls o 'Missing categories' en cada variale"
   ]
  },
  {
   "cell_type": "markdown",
   "metadata": {},
   "source": [
    "# Cuántas columnas esperan que se genere en la  binarización del dataset?"
   ]
  },
  {
   "cell_type": "markdown",
   "metadata": {},
   "source": [
    "#### veamos"
   ]
  },
  {
   "cell_type": "code",
   "execution_count": 10,
   "metadata": {},
   "outputs": [],
   "source": [
    "categorical_transformer = Pipeline(steps=[\n",
    "    ('cat_imputer', SimpleImputer(strategy='constant', fill_value='missing')),  \n",
    "    ('onehot', OneHotEncoder(handle_unknown='ignore'))])      \n",
    "# Uno podría incluir drop='first' para evitar colinealidades, pero no si tenemos seteado handle_unknown = 'ignore'\n",
    "\n"
   ]
  },
  {
   "cell_type": "markdown",
   "metadata": {},
   "source": [
    "## Qué  va a hacer este transformer? \n",
    "* 1) SimpleImputer:  imputamos el valor \"missing\", cuando hay un valor None.\n",
    "* 2) OneHotEncoder:  transformamos esas variables categóricas a variables numéricas binarias, una por cada categoría presente en cada variable\n",
    "\n"
   ]
  },
  {
   "cell_type": "code",
   "execution_count": 11,
   "metadata": {},
   "outputs": [
    {
     "data": {
      "text/plain": [
       "array(['x0_Aromatic amino acid hydroxylase, C-terminal',\n",
       "       'x0_EGF-like domain', 'x0_Fibronectin type III',\n",
       "       'x0_Ion transport domain', 'x0_Myosin head, motor domain',\n",
       "       'x0_Serine-threonine/tyrosine-protein kinase, catalytic domain',\n",
       "       'x0_missing', 'x0_others', 'x1_E', 'x1_N', 'x1_missing', 'x2_E',\n",
       "       'x2_N', 'x2_missing', 'x3_E', 'x3_N', 'x3_S', 'x3_missing', 'x4_E',\n",
       "       'x4_H', 'x4_K', 'x4_N', 'x4_missing', 'x5_N', 'x5_Y', 'x5_missing'],\n",
       "      dtype=object)"
      ]
     },
     "execution_count": 11,
     "metadata": {},
     "output_type": "execute_result"
    }
   ],
   "source": [
    "# ejecutemos el \n",
    "Xtmp = X_train[categorical_columns]  # matrz temporal \n",
    "Xtmp_transformed = categorical_transformer.fit_transform(Xtmp)  ### Acá estamos aplicando la transformación.\n",
    "\n",
    "\n",
    "feature_names = categorical_transformer.named_steps['onehot'].get_feature_names()\n",
    "feature_names"
   ]
  },
  {
   "cell_type": "markdown",
   "metadata": {},
   "source": [
    "#### Sólo para visualizarlo y entenderlo mejor:\n",
    "(y responder la pregunta de arriba)\n"
   ]
  },
  {
   "cell_type": "code",
   "execution_count": 12,
   "metadata": {},
   "outputs": [
    {
     "name": "stdout",
     "output_type": "stream",
     "text": [
      "(5, 26)\n"
     ]
    },
    {
     "data": {
      "text/html": [
       "<div>\n",
       "<style scoped>\n",
       "    .dataframe tbody tr th:only-of-type {\n",
       "        vertical-align: middle;\n",
       "    }\n",
       "\n",
       "    .dataframe tbody tr th {\n",
       "        vertical-align: top;\n",
       "    }\n",
       "\n",
       "    .dataframe thead th {\n",
       "        text-align: right;\n",
       "    }\n",
       "</style>\n",
       "<table border=\"1\" class=\"dataframe\">\n",
       "  <thead>\n",
       "    <tr style=\"text-align: right;\">\n",
       "      <th></th>\n",
       "      <th>x0_Aromatic amino acid hydroxylase, C-terminal</th>\n",
       "      <th>x0_EGF-like domain</th>\n",
       "      <th>x0_Fibronectin type III</th>\n",
       "      <th>x0_Ion transport domain</th>\n",
       "      <th>x0_Myosin head, motor domain</th>\n",
       "      <th>x0_Serine-threonine/tyrosine-protein kinase, catalytic domain</th>\n",
       "      <th>x0_missing</th>\n",
       "      <th>x0_others</th>\n",
       "      <th>x1_E</th>\n",
       "      <th>x1_N</th>\n",
       "      <th>...</th>\n",
       "      <th>x3_S</th>\n",
       "      <th>x3_missing</th>\n",
       "      <th>x4_E</th>\n",
       "      <th>x4_H</th>\n",
       "      <th>x4_K</th>\n",
       "      <th>x4_N</th>\n",
       "      <th>x4_missing</th>\n",
       "      <th>x5_N</th>\n",
       "      <th>x5_Y</th>\n",
       "      <th>x5_missing</th>\n",
       "    </tr>\n",
       "  </thead>\n",
       "  <tbody>\n",
       "    <tr>\n",
       "      <th>0</th>\n",
       "      <td>0.0</td>\n",
       "      <td>0.0</td>\n",
       "      <td>0.0</td>\n",
       "      <td>0.0</td>\n",
       "      <td>0.0</td>\n",
       "      <td>0.0</td>\n",
       "      <td>1.0</td>\n",
       "      <td>0.0</td>\n",
       "      <td>1.0</td>\n",
       "      <td>0.0</td>\n",
       "      <td>...</td>\n",
       "      <td>0.0</td>\n",
       "      <td>0.0</td>\n",
       "      <td>0.0</td>\n",
       "      <td>0.0</td>\n",
       "      <td>1.0</td>\n",
       "      <td>0.0</td>\n",
       "      <td>0.0</td>\n",
       "      <td>1.0</td>\n",
       "      <td>0.0</td>\n",
       "      <td>0.0</td>\n",
       "    </tr>\n",
       "    <tr>\n",
       "      <th>1</th>\n",
       "      <td>0.0</td>\n",
       "      <td>0.0</td>\n",
       "      <td>0.0</td>\n",
       "      <td>0.0</td>\n",
       "      <td>0.0</td>\n",
       "      <td>0.0</td>\n",
       "      <td>1.0</td>\n",
       "      <td>0.0</td>\n",
       "      <td>0.0</td>\n",
       "      <td>1.0</td>\n",
       "      <td>...</td>\n",
       "      <td>0.0</td>\n",
       "      <td>0.0</td>\n",
       "      <td>0.0</td>\n",
       "      <td>0.0</td>\n",
       "      <td>0.0</td>\n",
       "      <td>1.0</td>\n",
       "      <td>0.0</td>\n",
       "      <td>0.0</td>\n",
       "      <td>1.0</td>\n",
       "      <td>0.0</td>\n",
       "    </tr>\n",
       "    <tr>\n",
       "      <th>2</th>\n",
       "      <td>0.0</td>\n",
       "      <td>0.0</td>\n",
       "      <td>0.0</td>\n",
       "      <td>0.0</td>\n",
       "      <td>0.0</td>\n",
       "      <td>0.0</td>\n",
       "      <td>0.0</td>\n",
       "      <td>1.0</td>\n",
       "      <td>0.0</td>\n",
       "      <td>1.0</td>\n",
       "      <td>...</td>\n",
       "      <td>0.0</td>\n",
       "      <td>0.0</td>\n",
       "      <td>0.0</td>\n",
       "      <td>0.0</td>\n",
       "      <td>0.0</td>\n",
       "      <td>1.0</td>\n",
       "      <td>0.0</td>\n",
       "      <td>1.0</td>\n",
       "      <td>0.0</td>\n",
       "      <td>0.0</td>\n",
       "    </tr>\n",
       "    <tr>\n",
       "      <th>3</th>\n",
       "      <td>0.0</td>\n",
       "      <td>0.0</td>\n",
       "      <td>0.0</td>\n",
       "      <td>0.0</td>\n",
       "      <td>0.0</td>\n",
       "      <td>0.0</td>\n",
       "      <td>0.0</td>\n",
       "      <td>1.0</td>\n",
       "      <td>1.0</td>\n",
       "      <td>0.0</td>\n",
       "      <td>...</td>\n",
       "      <td>0.0</td>\n",
       "      <td>0.0</td>\n",
       "      <td>0.0</td>\n",
       "      <td>1.0</td>\n",
       "      <td>0.0</td>\n",
       "      <td>0.0</td>\n",
       "      <td>0.0</td>\n",
       "      <td>1.0</td>\n",
       "      <td>0.0</td>\n",
       "      <td>0.0</td>\n",
       "    </tr>\n",
       "    <tr>\n",
       "      <th>4</th>\n",
       "      <td>0.0</td>\n",
       "      <td>0.0</td>\n",
       "      <td>0.0</td>\n",
       "      <td>0.0</td>\n",
       "      <td>0.0</td>\n",
       "      <td>0.0</td>\n",
       "      <td>1.0</td>\n",
       "      <td>0.0</td>\n",
       "      <td>0.0</td>\n",
       "      <td>0.0</td>\n",
       "      <td>...</td>\n",
       "      <td>0.0</td>\n",
       "      <td>1.0</td>\n",
       "      <td>0.0</td>\n",
       "      <td>0.0</td>\n",
       "      <td>0.0</td>\n",
       "      <td>0.0</td>\n",
       "      <td>1.0</td>\n",
       "      <td>1.0</td>\n",
       "      <td>0.0</td>\n",
       "      <td>0.0</td>\n",
       "    </tr>\n",
       "  </tbody>\n",
       "</table>\n",
       "<p>5 rows × 26 columns</p>\n",
       "</div>"
      ],
      "text/plain": [
       "   x0_Aromatic amino acid hydroxylase, C-terminal  x0_EGF-like domain  \\\n",
       "0                                             0.0                 0.0   \n",
       "1                                             0.0                 0.0   \n",
       "2                                             0.0                 0.0   \n",
       "3                                             0.0                 0.0   \n",
       "4                                             0.0                 0.0   \n",
       "\n",
       "   x0_Fibronectin type III  x0_Ion transport domain  \\\n",
       "0                      0.0                      0.0   \n",
       "1                      0.0                      0.0   \n",
       "2                      0.0                      0.0   \n",
       "3                      0.0                      0.0   \n",
       "4                      0.0                      0.0   \n",
       "\n",
       "   x0_Myosin head, motor domain  \\\n",
       "0                           0.0   \n",
       "1                           0.0   \n",
       "2                           0.0   \n",
       "3                           0.0   \n",
       "4                           0.0   \n",
       "\n",
       "   x0_Serine-threonine/tyrosine-protein kinase, catalytic domain  x0_missing  \\\n",
       "0                                                0.0                     1.0   \n",
       "1                                                0.0                     1.0   \n",
       "2                                                0.0                     0.0   \n",
       "3                                                0.0                     0.0   \n",
       "4                                                0.0                     1.0   \n",
       "\n",
       "   x0_others  x1_E  x1_N  ...  x3_S  x3_missing  x4_E  x4_H  x4_K  x4_N  \\\n",
       "0        0.0   1.0   0.0  ...   0.0         0.0   0.0   0.0   1.0   0.0   \n",
       "1        0.0   0.0   1.0  ...   0.0         0.0   0.0   0.0   0.0   1.0   \n",
       "2        1.0   0.0   1.0  ...   0.0         0.0   0.0   0.0   0.0   1.0   \n",
       "3        1.0   1.0   0.0  ...   0.0         0.0   0.0   1.0   0.0   0.0   \n",
       "4        0.0   0.0   0.0  ...   0.0         1.0   0.0   0.0   0.0   0.0   \n",
       "\n",
       "   x4_missing  x5_N  x5_Y  x5_missing  \n",
       "0         0.0   1.0   0.0         0.0  \n",
       "1         0.0   0.0   1.0         0.0  \n",
       "2         0.0   1.0   0.0         0.0  \n",
       "3         0.0   1.0   0.0         0.0  \n",
       "4         1.0   1.0   0.0         0.0  \n",
       "\n",
       "[5 rows x 26 columns]"
      ]
     },
     "execution_count": 12,
     "metadata": {},
     "output_type": "execute_result"
    }
   ],
   "source": [
    "aux = pd.DataFrame(Xtmp_transformed.toarray(),columns = feature_names).head()\n",
    "print(aux.shape)\n",
    "aux.head()"
   ]
  },
  {
   "cell_type": "markdown",
   "metadata": {},
   "source": [
    "* Noten arriba, la presencia de columnas \"Missing\" en cada variable\n",
    "\n",
    "\n",
    "#### Listo con el tratamiento básico en las variables categóricas. \n",
    "\n",
    "\n",
    "."
   ]
  },
  {
   "cell_type": "markdown",
   "metadata": {},
   "source": [
    "##   Vamos al tratamiento de las variables numéricas"
   ]
  },
  {
   "cell_type": "markdown",
   "metadata": {},
   "source": [
    "## Vamos a tratarlas de la siguiente forma: \n",
    "* 1) Imputamos en cada valor None, la mediana a lo largo de todos los restantes elementos en ese feature.\n",
    "* notar que es conveniente respecto a imputar el valor medio debido a que la mediana es robusta a outliers.\n",
    "\n",
    "* 2) Standard Scaler  ($Z_{score}$):  Es una forma de normalizar una variable numérica:\n",
    "    $x_{mean}$ : se calcula el valor medio de toda la variable\n",
    "    $x_{sd}$ : se calcula el desvío estandard de toda la variable.\n",
    "    Luego para cada x $\\in$ variable se calcula:\n",
    "\n",
    "$Z_{score} = \\frac{x - x_{mean}}{x_{sd}}$\n"
   ]
  },
  {
   "cell_type": "code",
   "execution_count": 13,
   "metadata": {},
   "outputs": [],
   "source": [
    "numeric_transformer = Pipeline(steps=[\n",
    "    ('num_imputer', SimpleImputer(strategy='median')),\n",
    "    ('scaler', StandardScaler(with_mean=False))])  # Esto es una vacancia de Sklearn, no permite aún \"centrar\" matrizes sparse\n",
    "\n",
    "#(pisamos el anterior, es solo para exp)\n",
    "Xtmp_num = X_train[numerical_columns] \n",
    "Xtmp_num_transformed = numeric_transformer.fit_transform(Xtmp_num)\n",
    "#### Acá no se puede recuperar el nombre de los features, pero por el tipo de transformación permanece inalterado.\n",
    "    \n"
   ]
  },
  {
   "cell_type": "markdown",
   "metadata": {},
   "source": [
    "* en realidad la transformación que hicimos fue:\n",
    "$Z^{*} = \\frac{x }{x_{sd}}$"
   ]
  },
  {
   "cell_type": "code",
   "execution_count": 14,
   "metadata": {},
   "outputs": [
    {
     "name": "stdout",
     "output_type": "stream",
     "text": [
      "(375, 33)\n"
     ]
    },
    {
     "data": {
      "text/html": [
       "<div>\n",
       "<style scoped>\n",
       "    .dataframe tbody tr th:only-of-type {\n",
       "        vertical-align: middle;\n",
       "    }\n",
       "\n",
       "    .dataframe tbody tr th {\n",
       "        vertical-align: top;\n",
       "    }\n",
       "\n",
       "    .dataframe thead th {\n",
       "        text-align: right;\n",
       "    }\n",
       "</style>\n",
       "<table border=\"1\" class=\"dataframe\">\n",
       "  <thead>\n",
       "    <tr style=\"text-align: right;\">\n",
       "      <th></th>\n",
       "      <th>gerp_gerp_nr</th>\n",
       "      <th>gerp_gerp_rs</th>\n",
       "      <th>linsight_value</th>\n",
       "      <th>phastcons_phastcons100_vert</th>\n",
       "      <th>phastcons_phastcons30_mamm</th>\n",
       "      <th>phylop_phylop100_vert</th>\n",
       "      <th>phylop_phylop100_vert_r</th>\n",
       "      <th>phylop_phylop30_mamm</th>\n",
       "      <th>segway_sum_score</th>\n",
       "      <th>segway_mean_score</th>\n",
       "      <th>...</th>\n",
       "      <th>intact_counts</th>\n",
       "      <th>gnomad_gene_oe_lof_min</th>\n",
       "      <th>gnomad_gene_oe_mis_min</th>\n",
       "      <th>gnomad_gene_oe_syn_min</th>\n",
       "      <th>gnomad_gene_lof_z_max</th>\n",
       "      <th>gnomad_gene_mis_z_max</th>\n",
       "      <th>gnomad_gene_syn_z_max</th>\n",
       "      <th>gnomad_gene_pLI_max</th>\n",
       "      <th>gnomad_gene_pRec_max</th>\n",
       "      <th>gnomad_gene_pNull_max</th>\n",
       "    </tr>\n",
       "  </thead>\n",
       "  <tbody>\n",
       "    <tr>\n",
       "      <th>0</th>\n",
       "      <td>8.193887</td>\n",
       "      <td>1.730304</td>\n",
       "      <td>23.002452</td>\n",
       "      <td>2.445903</td>\n",
       "      <td>2.529889</td>\n",
       "      <td>1.537029</td>\n",
       "      <td>2.250029</td>\n",
       "      <td>1.378659</td>\n",
       "      <td>1.405368</td>\n",
       "      <td>2.118317</td>\n",
       "      <td>...</td>\n",
       "      <td>1.057059</td>\n",
       "      <td>0.082252</td>\n",
       "      <td>1.530353</td>\n",
       "      <td>3.575607</td>\n",
       "      <td>2.058338</td>\n",
       "      <td>1.635615</td>\n",
       "      <td>0.375585</td>\n",
       "      <td>2.257061e+00</td>\n",
       "      <td>0.000032</td>\n",
       "      <td>1.411011e-13</td>\n",
       "    </tr>\n",
       "    <tr>\n",
       "      <th>1</th>\n",
       "      <td>7.478064</td>\n",
       "      <td>0.591777</td>\n",
       "      <td>23.002452</td>\n",
       "      <td>0.132079</td>\n",
       "      <td>0.007824</td>\n",
       "      <td>0.594699</td>\n",
       "      <td>1.406437</td>\n",
       "      <td>0.309056</td>\n",
       "      <td>1.405368</td>\n",
       "      <td>2.118317</td>\n",
       "      <td>...</td>\n",
       "      <td>0.069315</td>\n",
       "      <td>2.474844</td>\n",
       "      <td>3.505407</td>\n",
       "      <td>4.255558</td>\n",
       "      <td>0.496289</td>\n",
       "      <td>0.228847</td>\n",
       "      <td>0.159164</td>\n",
       "      <td>1.059701e-38</td>\n",
       "      <td>1.245534</td>\n",
       "      <td>2.770128e+00</td>\n",
       "    </tr>\n",
       "    <tr>\n",
       "      <th>2</th>\n",
       "      <td>8.239578</td>\n",
       "      <td>1.739952</td>\n",
       "      <td>23.002452</td>\n",
       "      <td>2.445903</td>\n",
       "      <td>1.637908</td>\n",
       "      <td>2.103156</td>\n",
       "      <td>2.722514</td>\n",
       "      <td>1.762963</td>\n",
       "      <td>1.405368</td>\n",
       "      <td>2.118317</td>\n",
       "      <td>...</td>\n",
       "      <td>0.207946</td>\n",
       "      <td>1.918820</td>\n",
       "      <td>3.411129</td>\n",
       "      <td>3.886104</td>\n",
       "      <td>1.098089</td>\n",
       "      <td>0.216562</td>\n",
       "      <td>0.425182</td>\n",
       "      <td>2.176032e-24</td>\n",
       "      <td>2.376914</td>\n",
       "      <td>1.140346e+00</td>\n",
       "    </tr>\n",
       "    <tr>\n",
       "      <th>3</th>\n",
       "      <td>7.874051</td>\n",
       "      <td>1.662764</td>\n",
       "      <td>23.002452</td>\n",
       "      <td>2.445903</td>\n",
       "      <td>2.608133</td>\n",
       "      <td>1.618825</td>\n",
       "      <td>2.318155</td>\n",
       "      <td>1.499594</td>\n",
       "      <td>3.365814</td>\n",
       "      <td>5.495892</td>\n",
       "      <td>...</td>\n",
       "      <td>4.002960</td>\n",
       "      <td>1.110098</td>\n",
       "      <td>3.979979</td>\n",
       "      <td>4.717575</td>\n",
       "      <td>0.565379</td>\n",
       "      <td>-0.149704</td>\n",
       "      <td>-0.232339</td>\n",
       "      <td>2.770119e-01</td>\n",
       "      <td>2.119001</td>\n",
       "      <td>2.505420e-01</td>\n",
       "    </tr>\n",
       "    <tr>\n",
       "      <th>4</th>\n",
       "      <td>8.726946</td>\n",
       "      <td>1.842870</td>\n",
       "      <td>23.002452</td>\n",
       "      <td>2.445903</td>\n",
       "      <td>2.608133</td>\n",
       "      <td>1.298925</td>\n",
       "      <td>2.062820</td>\n",
       "      <td>1.762963</td>\n",
       "      <td>1.405368</td>\n",
       "      <td>2.118317</td>\n",
       "      <td>...</td>\n",
       "      <td>0.190617</td>\n",
       "      <td>0.575531</td>\n",
       "      <td>2.509938</td>\n",
       "      <td>4.570716</td>\n",
       "      <td>4.531975</td>\n",
       "      <td>3.140320</td>\n",
       "      <td>0.220559</td>\n",
       "      <td>2.257084e+00</td>\n",
       "      <td>0.000011</td>\n",
       "      <td>1.736812e-48</td>\n",
       "    </tr>\n",
       "  </tbody>\n",
       "</table>\n",
       "<p>5 rows × 33 columns</p>\n",
       "</div>"
      ],
      "text/plain": [
       "   gerp_gerp_nr  gerp_gerp_rs  linsight_value  phastcons_phastcons100_vert  \\\n",
       "0      8.193887      1.730304       23.002452                     2.445903   \n",
       "1      7.478064      0.591777       23.002452                     0.132079   \n",
       "2      8.239578      1.739952       23.002452                     2.445903   \n",
       "3      7.874051      1.662764       23.002452                     2.445903   \n",
       "4      8.726946      1.842870       23.002452                     2.445903   \n",
       "\n",
       "   phastcons_phastcons30_mamm  phylop_phylop100_vert  phylop_phylop100_vert_r  \\\n",
       "0                    2.529889               1.537029                 2.250029   \n",
       "1                    0.007824               0.594699                 1.406437   \n",
       "2                    1.637908               2.103156                 2.722514   \n",
       "3                    2.608133               1.618825                 2.318155   \n",
       "4                    2.608133               1.298925                 2.062820   \n",
       "\n",
       "   phylop_phylop30_mamm  segway_sum_score  segway_mean_score  ...  \\\n",
       "0              1.378659          1.405368           2.118317  ...   \n",
       "1              0.309056          1.405368           2.118317  ...   \n",
       "2              1.762963          1.405368           2.118317  ...   \n",
       "3              1.499594          3.365814           5.495892  ...   \n",
       "4              1.762963          1.405368           2.118317  ...   \n",
       "\n",
       "   intact_counts  gnomad_gene_oe_lof_min  gnomad_gene_oe_mis_min  \\\n",
       "0       1.057059                0.082252                1.530353   \n",
       "1       0.069315                2.474844                3.505407   \n",
       "2       0.207946                1.918820                3.411129   \n",
       "3       4.002960                1.110098                3.979979   \n",
       "4       0.190617                0.575531                2.509938   \n",
       "\n",
       "   gnomad_gene_oe_syn_min  gnomad_gene_lof_z_max  gnomad_gene_mis_z_max  \\\n",
       "0                3.575607               2.058338               1.635615   \n",
       "1                4.255558               0.496289               0.228847   \n",
       "2                3.886104               1.098089               0.216562   \n",
       "3                4.717575               0.565379              -0.149704   \n",
       "4                4.570716               4.531975               3.140320   \n",
       "\n",
       "   gnomad_gene_syn_z_max  gnomad_gene_pLI_max  gnomad_gene_pRec_max  \\\n",
       "0               0.375585         2.257061e+00              0.000032   \n",
       "1               0.159164         1.059701e-38              1.245534   \n",
       "2               0.425182         2.176032e-24              2.376914   \n",
       "3              -0.232339         2.770119e-01              2.119001   \n",
       "4               0.220559         2.257084e+00              0.000011   \n",
       "\n",
       "   gnomad_gene_pNull_max  \n",
       "0           1.411011e-13  \n",
       "1           2.770128e+00  \n",
       "2           1.140346e+00  \n",
       "3           2.505420e-01  \n",
       "4           1.736812e-48  \n",
       "\n",
       "[5 rows x 33 columns]"
      ]
     },
     "execution_count": 14,
     "metadata": {},
     "output_type": "execute_result"
    }
   ],
   "source": [
    "dfXtmp_numeric_transformed = pd.DataFrame(Xtmp_num_transformed,columns=Xtmp_num.columns)\n",
    "print(dfXtmp_numeric_transformed.shape)\n",
    "dfXtmp_numeric_transformed.head()"
   ]
  },
  {
   "cell_type": "markdown",
   "metadata": {},
   "source": [
    "## Veamos que  pasó con las escala de las variables"
   ]
  },
  {
   "cell_type": "code",
   "execution_count": 15,
   "metadata": {},
   "outputs": [
    {
     "name": "stdout",
     "output_type": "stream",
     "text": [
      "gerp_gerp_nr                   1.0\n",
      "gerp_gerp_rs                   1.0\n",
      "linsight_value                 1.0\n",
      "phastcons_phastcons100_vert    1.0\n",
      "phastcons_phastcons30_mamm     1.0\n",
      "dtype: float64\n"
     ]
    },
    {
     "data": {
      "text/plain": [
       "Text(0, 0.5, 'Numero de features')"
      ]
     },
     "execution_count": 15,
     "metadata": {},
     "output_type": "execute_result"
    },
    {
     "data": {
      "image/png": "[encoded data removed]",
      "text/plain": [
       "<Figure size 432x288 with 1 Axes>"
      ]
     },
     "metadata": {
      "needs_background": "light"
     },
     "output_type": "display_data"
    }
   ],
   "source": [
    "std_old = Xtmp_num.apply(np.std)\n",
    "\n",
    "std_new = dfXtmp_numeric_transformed.apply(np.std)\n",
    "\n",
    "print(std_new.head(5))\n",
    "\n",
    "ax = std_old.apply(lambda x: np.log2(x+1)).hist(bins = 30)\n",
    "ax.set_xlabel('log2 (std)')\n",
    "ax.set_ylabel('Numero de features')\n"
   ]
  },
  {
   "cell_type": "markdown",
   "metadata": {},
   "source": [
    "#### preguntas:\n",
    "* Qué significan esos valores negativos? \n",
    "* Que consecuencias puede traer que haya variables con tanta diferencia en su escala?"
   ]
  },
  {
   "cell_type": "markdown",
   "metadata": {},
   "source": [
    "# Ya sabemos preprocesar variables categóricas, y variables numéricas\n",
    "\n",
    "##### Ahora vamos a hacer un único preprocesamiento que unifique todo lo que vimos:\n",
    "\n",
    "* nos vamo a valer de ColumnTransformer, que nos permite hacer distintas operaciones sobre distintos grupos de feautres"
   ]
  },
  {
   "cell_type": "code",
   "execution_count": 16,
   "metadata": {},
   "outputs": [],
   "source": [
    "## estas 3 líneas ya fueron corrias antes\n",
    "#categorical_feature_mask = X_train.dtypes==object       # esto nos da un vector booleano \n",
    "#categorical_columns = X_train.columns[categorical_feature_mask].tolist()  # acá picnhamos los nombres de esas columnas\n",
    "#numerical_columns = X_train.columns[~X_train.columns.isin(categorical_columns)] # defino las numéricas como el complemento de las categóricas \n",
    "\n",
    "preprocessor = ColumnTransformer(transformers = [\n",
    "    ('num', numeric_transformer,numerical_columns),\n",
    "    ('cat', categorical_transformer,categorical_columns)\n",
    "])\n",
    "\n",
    "X_train_both_tranformations = preprocessor.fit_transform(X_train)\n",
    "\n"
   ]
  },
  {
   "cell_type": "markdown",
   "metadata": {},
   "source": [
    "##### Pensalo un segundo, hiciste algo Súper potente: definiste dos pipelines (numeric_transformer, y categorical_transformer)\n",
    "### y luego loss uniste en un único proceso!! \n",
    "Tenemos nuestro 'preprocessor', que vamos a concatenar luego con distintos modelos de M.Learning\n"
   ]
  },
  {
   "cell_type": "code",
   "execution_count": 17,
   "metadata": {},
   "outputs": [],
   "source": [
    "transf = preprocessor.transformers_\n",
    "\n",
    "numeric_names = preprocessor.transformers_[0][2].tolist()\n",
    "categorical_output_names = preprocessor.named_transformers_['cat'].named_steps['onehot'].get_feature_names().tolist()\n",
    "\n",
    "cols = numeric_names + categorical_output_names  # ver nota abajo\n"
   ]
  },
  {
   "cell_type": "markdown",
   "metadata": {},
   "source": [
    "#### ColumnTransformer \n",
    "* va concatenando las columnas que procesa en el orden que nosotros hayamos definido los stetps. \n",
    "#### Hay que ser muy cuidadoso de no pifiarle en estas cosas y entender bien la forma en que está trabajando nuestro pipeline\n",
    "##### Veamosslo"
   ]
  },
  {
   "cell_type": "code",
   "execution_count": 18,
   "metadata": {},
   "outputs": [
    {
     "data": {
      "text/html": [
       "<div>\n",
       "<style scoped>\n",
       "    .dataframe tbody tr th:only-of-type {\n",
       "        vertical-align: middle;\n",
       "    }\n",
       "\n",
       "    .dataframe tbody tr th {\n",
       "        vertical-align: top;\n",
       "    }\n",
       "\n",
       "    .dataframe thead th {\n",
       "        text-align: right;\n",
       "    }\n",
       "</style>\n",
       "<table border=\"1\" class=\"dataframe\">\n",
       "  <thead>\n",
       "    <tr style=\"text-align: right;\">\n",
       "      <th></th>\n",
       "      <th>gerp_gerp_nr</th>\n",
       "      <th>gerp_gerp_rs</th>\n",
       "      <th>linsight_value</th>\n",
       "      <th>phastcons_phastcons100_vert</th>\n",
       "      <th>phastcons_phastcons30_mamm</th>\n",
       "      <th>phylop_phylop100_vert</th>\n",
       "      <th>phylop_phylop100_vert_r</th>\n",
       "      <th>phylop_phylop30_mamm</th>\n",
       "      <th>segway_sum_score</th>\n",
       "      <th>segway_mean_score</th>\n",
       "      <th>...</th>\n",
       "      <th>x3_S</th>\n",
       "      <th>x3_missing</th>\n",
       "      <th>x4_E</th>\n",
       "      <th>x4_H</th>\n",
       "      <th>x4_K</th>\n",
       "      <th>x4_N</th>\n",
       "      <th>x4_missing</th>\n",
       "      <th>x5_N</th>\n",
       "      <th>x5_Y</th>\n",
       "      <th>x5_missing</th>\n",
       "    </tr>\n",
       "  </thead>\n",
       "  <tbody>\n",
       "    <tr>\n",
       "      <th>0</th>\n",
       "      <td>8.193887</td>\n",
       "      <td>1.730304</td>\n",
       "      <td>23.002452</td>\n",
       "      <td>2.445903</td>\n",
       "      <td>2.529889</td>\n",
       "      <td>1.537029</td>\n",
       "      <td>2.250029</td>\n",
       "      <td>1.378659</td>\n",
       "      <td>1.405368</td>\n",
       "      <td>2.118317</td>\n",
       "      <td>...</td>\n",
       "      <td>0.0</td>\n",
       "      <td>0.0</td>\n",
       "      <td>0.0</td>\n",
       "      <td>0.0</td>\n",
       "      <td>1.0</td>\n",
       "      <td>0.0</td>\n",
       "      <td>0.0</td>\n",
       "      <td>1.0</td>\n",
       "      <td>0.0</td>\n",
       "      <td>0.0</td>\n",
       "    </tr>\n",
       "    <tr>\n",
       "      <th>1</th>\n",
       "      <td>7.478064</td>\n",
       "      <td>0.591777</td>\n",
       "      <td>23.002452</td>\n",
       "      <td>0.132079</td>\n",
       "      <td>0.007824</td>\n",
       "      <td>0.594699</td>\n",
       "      <td>1.406437</td>\n",
       "      <td>0.309056</td>\n",
       "      <td>1.405368</td>\n",
       "      <td>2.118317</td>\n",
       "      <td>...</td>\n",
       "      <td>0.0</td>\n",
       "      <td>0.0</td>\n",
       "      <td>0.0</td>\n",
       "      <td>0.0</td>\n",
       "      <td>0.0</td>\n",
       "      <td>1.0</td>\n",
       "      <td>0.0</td>\n",
       "      <td>0.0</td>\n",
       "      <td>1.0</td>\n",
       "      <td>0.0</td>\n",
       "    </tr>\n",
       "    <tr>\n",
       "      <th>2</th>\n",
       "      <td>8.239578</td>\n",
       "      <td>1.739952</td>\n",
       "      <td>23.002452</td>\n",
       "      <td>2.445903</td>\n",
       "      <td>1.637908</td>\n",
       "      <td>2.103156</td>\n",
       "      <td>2.722514</td>\n",
       "      <td>1.762963</td>\n",
       "      <td>1.405368</td>\n",
       "      <td>2.118317</td>\n",
       "      <td>...</td>\n",
       "      <td>0.0</td>\n",
       "      <td>0.0</td>\n",
       "      <td>0.0</td>\n",
       "      <td>0.0</td>\n",
       "      <td>0.0</td>\n",
       "      <td>1.0</td>\n",
       "      <td>0.0</td>\n",
       "      <td>1.0</td>\n",
       "      <td>0.0</td>\n",
       "      <td>0.0</td>\n",
       "    </tr>\n",
       "    <tr>\n",
       "      <th>3</th>\n",
       "      <td>7.874051</td>\n",
       "      <td>1.662764</td>\n",
       "      <td>23.002452</td>\n",
       "      <td>2.445903</td>\n",
       "      <td>2.608133</td>\n",
       "      <td>1.618825</td>\n",
       "      <td>2.318155</td>\n",
       "      <td>1.499594</td>\n",
       "      <td>3.365814</td>\n",
       "      <td>5.495892</td>\n",
       "      <td>...</td>\n",
       "      <td>0.0</td>\n",
       "      <td>0.0</td>\n",
       "      <td>0.0</td>\n",
       "      <td>1.0</td>\n",
       "      <td>0.0</td>\n",
       "      <td>0.0</td>\n",
       "      <td>0.0</td>\n",
       "      <td>1.0</td>\n",
       "      <td>0.0</td>\n",
       "      <td>0.0</td>\n",
       "    </tr>\n",
       "    <tr>\n",
       "      <th>4</th>\n",
       "      <td>8.726946</td>\n",
       "      <td>1.842870</td>\n",
       "      <td>23.002452</td>\n",
       "      <td>2.445903</td>\n",
       "      <td>2.608133</td>\n",
       "      <td>1.298925</td>\n",
       "      <td>2.062820</td>\n",
       "      <td>1.762963</td>\n",
       "      <td>1.405368</td>\n",
       "      <td>2.118317</td>\n",
       "      <td>...</td>\n",
       "      <td>0.0</td>\n",
       "      <td>1.0</td>\n",
       "      <td>0.0</td>\n",
       "      <td>0.0</td>\n",
       "      <td>0.0</td>\n",
       "      <td>0.0</td>\n",
       "      <td>1.0</td>\n",
       "      <td>1.0</td>\n",
       "      <td>0.0</td>\n",
       "      <td>0.0</td>\n",
       "    </tr>\n",
       "  </tbody>\n",
       "</table>\n",
       "<p>5 rows × 59 columns</p>\n",
       "</div>"
      ],
      "text/plain": [
       "   gerp_gerp_nr  gerp_gerp_rs  linsight_value  phastcons_phastcons100_vert  \\\n",
       "0      8.193887      1.730304       23.002452                     2.445903   \n",
       "1      7.478064      0.591777       23.002452                     0.132079   \n",
       "2      8.239578      1.739952       23.002452                     2.445903   \n",
       "3      7.874051      1.662764       23.002452                     2.445903   \n",
       "4      8.726946      1.842870       23.002452                     2.445903   \n",
       "\n",
       "   phastcons_phastcons30_mamm  phylop_phylop100_vert  phylop_phylop100_vert_r  \\\n",
       "0                    2.529889               1.537029                 2.250029   \n",
       "1                    0.007824               0.594699                 1.406437   \n",
       "2                    1.637908               2.103156                 2.722514   \n",
       "3                    2.608133               1.618825                 2.318155   \n",
       "4                    2.608133               1.298925                 2.062820   \n",
       "\n",
       "   phylop_phylop30_mamm  segway_sum_score  segway_mean_score  ...  x3_S  \\\n",
       "0              1.378659          1.405368           2.118317  ...   0.0   \n",
       "1              0.309056          1.405368           2.118317  ...   0.0   \n",
       "2              1.762963          1.405368           2.118317  ...   0.0   \n",
       "3              1.499594          3.365814           5.495892  ...   0.0   \n",
       "4              1.762963          1.405368           2.118317  ...   0.0   \n",
       "\n",
       "   x3_missing  x4_E  x4_H  x4_K  x4_N  x4_missing  x5_N  x5_Y  x5_missing  \n",
       "0         0.0   0.0   0.0   1.0   0.0         0.0   1.0   0.0         0.0  \n",
       "1         0.0   0.0   0.0   0.0   1.0         0.0   0.0   1.0         0.0  \n",
       "2         0.0   0.0   0.0   0.0   1.0         0.0   1.0   0.0         0.0  \n",
       "3         0.0   0.0   1.0   0.0   0.0         0.0   1.0   0.0         0.0  \n",
       "4         1.0   0.0   0.0   0.0   0.0         1.0   1.0   0.0         0.0  \n",
       "\n",
       "[5 rows x 59 columns]"
      ]
     },
     "execution_count": 18,
     "metadata": {},
     "output_type": "execute_result"
    }
   ],
   "source": [
    "pd.DataFrame(X_train_both_tranformations,columns = cols).head()"
   ]
  },
  {
   "cell_type": "markdown",
   "metadata": {},
   "source": [
    "# Hahora, vamos a integrar nuestro preprocessor con un modelo súper simple de ML. "
   ]
  },
  {
   "cell_type": "code",
   "execution_count": 19,
   "metadata": {},
   "outputs": [
    {
     "name": "stderr",
     "output_type": "stream",
     "text": [
      "/usr/local/lib/python3.6/dist-packages/sklearn/utils/validation.py:724: DataConversionWarning: A column-vector y was passed when a 1d array was expected. Please change the shape of y to (n_samples, ), for example using ravel().\n",
      "  y = column_or_1d(y, warn=True)\n",
      "/usr/local/lib/python3.6/dist-packages/sklearn/linear_model/logistic.py:947: ConvergenceWarning: lbfgs failed to converge. Increase the number of iterations.\n",
      "  \"of iterations.\", ConvergenceWarning)\n"
     ]
    }
   ],
   "source": [
    "### Construimos el Pipeline\n",
    "## Regresion Logistica SIN regularización\n",
    "pipeline = Pipeline(steps = [('preprocessing',preprocessor),\n",
    "                             ('clasificador',LogisticRegression(penalty = 'none',solver = 'lbfgs'))])\n",
    "\n",
    "#Entrenamiento\n",
    "pipeline = pipeline.fit(X_train, y_train)\n",
    "\n",
    "#Extraemos las predicciones\n",
    "predictions = pd.Series(pipeline.predict(X_test))"
   ]
  },
  {
   "cell_type": "markdown",
   "metadata": {},
   "source": [
    "* Y en solo 3 líneas de código ahora, hemos generado un modelo con su proprio preprocesamiento de datos incluido\n",
    "\n",
    "* Que el preprocesamiento esté inmerso en el modelo, y no se haga por fuera del mismo nos aportará robustez, poder de generalización entre otras ventajas. Además, se podrá meter dentro de nuestros procedimientos de validación cruzada con total prolijidad "
   ]
  },
  {
   "cell_type": "markdown",
   "metadata": {},
   "source": [
    "#### Notas para finalizar, sobre preprocesado de datos \n",
    "* 1) No imputar ni normalizar los features categóricos como si fueran continuos. \n",
    "* Para evitar este fue fundamental nuestra unión de pipelines. \n",
    "\n",
    "\n",
    "* 2) Un error general e importante de entender, es evitar aplicar transformaciones globales al dataset antes de hacer el train-test-split (o incluso despues de haberlo hecho) sin incluirlos en el modelo  mismo. \n",
    "*  Aplicado una operación global al X_train te lleva a una mala prárctica de validación cruzada (veremos eso luego eso).\n",
    "* porque conduce a una sobreestimación de la performance en el proceso de validación cruzada. \n",
    "\n",
    "* Esos implica que, cuando hagamos validación cruzada, y separemos nuestro dataset en grupos para entrenar y otros para validar, el set con que se entrene va a tener info de la distribución de features  en el evaluation set.\n"
   ]
  },
  {
   "cell_type": "markdown",
   "metadata": {},
   "source": [
    "## Ahora exploremos un poco los resultados de este modelo simple que construimos"
   ]
  },
  {
   "cell_type": "code",
   "execution_count": 20,
   "metadata": {},
   "outputs": [
    {
     "data": {
      "text/html": [
       "<div>\n",
       "<style scoped>\n",
       "    .dataframe tbody tr th:only-of-type {\n",
       "        vertical-align: middle;\n",
       "    }\n",
       "\n",
       "    .dataframe tbody tr th {\n",
       "        vertical-align: top;\n",
       "    }\n",
       "\n",
       "    .dataframe thead th {\n",
       "        text-align: right;\n",
       "    }\n",
       "</style>\n",
       "<table border=\"1\" class=\"dataframe\">\n",
       "  <thead>\n",
       "    <tr style=\"text-align: right;\">\n",
       "      <th></th>\n",
       "      <th>beningn</th>\n",
       "      <th>pathog</th>\n",
       "    </tr>\n",
       "  </thead>\n",
       "  <tbody>\n",
       "    <tr>\n",
       "      <th>0</th>\n",
       "      <td>0.446575</td>\n",
       "      <td>0.553425</td>\n",
       "    </tr>\n",
       "    <tr>\n",
       "      <th>1</th>\n",
       "      <td>0.995572</td>\n",
       "      <td>0.004428</td>\n",
       "    </tr>\n",
       "    <tr>\n",
       "      <th>2</th>\n",
       "      <td>0.872917</td>\n",
       "      <td>0.127083</td>\n",
       "    </tr>\n",
       "    <tr>\n",
       "      <th>3</th>\n",
       "      <td>0.027735</td>\n",
       "      <td>0.972265</td>\n",
       "    </tr>\n",
       "    <tr>\n",
       "      <th>4</th>\n",
       "      <td>0.715134</td>\n",
       "      <td>0.284866</td>\n",
       "    </tr>\n",
       "  </tbody>\n",
       "</table>\n",
       "</div>"
      ],
      "text/plain": [
       "    beningn    pathog\n",
       "0  0.446575  0.553425\n",
       "1  0.995572  0.004428\n",
       "2  0.872917  0.127083\n",
       "3  0.027735  0.972265\n",
       "4  0.715134  0.284866"
      ]
     },
     "execution_count": 20,
     "metadata": {},
     "output_type": "execute_result"
    }
   ],
   "source": [
    "probas = pd.DataFrame(pipeline.predict_proba(X_test),columns = ['beningn','pathog'])\n",
    "y_pred = probas['pathog']\n",
    "probas.head()"
   ]
  },
  {
   "cell_type": "markdown",
   "metadata": {},
   "source": [
    "## Cómo e distribuyen nuestro score?"
   ]
  },
  {
   "cell_type": "code",
   "execution_count": 21,
   "metadata": {},
   "outputs": [
    {
     "data": {
      "text/plain": [
       "<matplotlib.axes._subplots.AxesSubplot at 0x7fae2a6eca20>"
      ]
     },
     "execution_count": 21,
     "metadata": {},
     "output_type": "execute_result"
    },
    {
     "data": {
      "image/png": "[encoded data removed]",
      "text/plain": [
       "<Figure size 432x288 with 1 Axes>"
      ]
     },
     "metadata": {
      "needs_background": "light"
     },
     "output_type": "display_data"
    }
   ],
   "source": [
    "y_pred.hist(bins = 50)"
   ]
  },
  {
   "cell_type": "markdown",
   "metadata": {},
   "source": [
    "## Cuál es su performance? (AUCs)\n",
    "* AUC_roc\n",
    "* AUC_prcision_recall"
   ]
  },
  {
   "cell_type": "code",
   "execution_count": 22,
   "metadata": {},
   "outputs": [
    {
     "data": {
      "text/plain": [
       "Text(0.5, 0.98, 'AUC - ROC & Prec-Recall')"
      ]
     },
     "execution_count": 22,
     "metadata": {},
     "output_type": "execute_result"
    },
    {
     "data": {
      "image/png": "[encoded data removed]",
      "text/plain": [
       "<Figure size 432x288 with 2 Axes>"
      ]
     },
     "metadata": {
      "needs_background": "light"
     },
     "output_type": "display_data"
    }
   ],
   "source": [
    "# para plotear\n",
    "fig, (ax1, ax2) = plt.subplots(1, 2)\n",
    "matplotlib.rcParams['figure.figsize'] = [8, 4]\n",
    "\n",
    "## ROC curve\n",
    "roc_auc = metrics.roc_auc_score(y_test, y_pred)\n",
    "fpr, tpr, thresholds = metrics.roc_curve(y_test, y_pred, pos_label=1)\n",
    "ax1.plot(fpr, tpr, color='darkorange', label=\"ROC curve of class %.2f\"%roc_auc)\n",
    "ax1.legend(loc=\"lower right\")\n",
    "\n",
    "## precision recall curve\n",
    "precision, recall, thresholds = metrics.precision_recall_curve(y_test, y_pred)\n",
    "aucpr =  metrics.average_precision_score(y_test, y_pred)\n",
    "ax2.plot(recall, precision, color='darkorange', label=\"AUC Prec-Recall %.2f\"%aucpr)\n",
    "ax2.legend(loc=\"lower right\")\n",
    "\n",
    "\n",
    "fig.suptitle('AUC - ROC & Prec-Recall')"
   ]
  },
  {
   "cell_type": "markdown",
   "metadata": {},
   "source": [
    "## Y donde en qué variables está concentrado el poder predictivo?"
   ]
  },
  {
   "cell_type": "code",
   "execution_count": 23,
   "metadata": {},
   "outputs": [
    {
     "data": {
      "text/plain": [
       "<matplotlib.axes._subplots.AxesSubplot at 0x7fae2a4eee10>"
      ]
     },
     "execution_count": 23,
     "metadata": {},
     "output_type": "execute_result"
    },
    {
     "data": {
      "image/png": "[encoded data removed]",
      "text/plain": [
       "<Figure size 576x288 with 1 Axes>"
      ]
     },
     "metadata": {
      "needs_background": "light"
     },
     "output_type": "display_data"
    }
   ],
   "source": [
    "lr = pipeline.named_steps['clasificador']\n",
    "coefs = pd.Series(2**lr.coef_[0])\n",
    "coefs.hist(bins =  50)"
   ]
  },
  {
   "cell_type": "code",
   "execution_count": 24,
   "metadata": {},
   "outputs": [
    {
     "data": {
      "text/plain": [
       "phylop_phylop100_vert                             9.201273\n",
       "x0_Ion transport domain                           2.247288\n",
       "prec_prec                                         1.772437\n",
       "x3_S                                              1.754609\n",
       "x0_Myosin head, motor domain                      1.678875\n",
       "exac_gene_exac_cnv_score                          1.652596\n",
       "x4_E                                              1.632797\n",
       "intact_counts                                     1.623924\n",
       "gnomad_gene_pRec_max                              1.421127\n",
       "x4_H                                              1.409725\n",
       "x0_Aromatic amino acid hydroxylase, C-terminal    1.409348\n",
       "x5_N                                              0.465701\n",
       "x1_missing                                        0.463115\n",
       "x3_missing                                        0.463115\n",
       "x4_missing                                        0.463115\n",
       "x2_missing                                        0.463115\n",
       "x1_E                                              0.450642\n",
       "phylop_phylop100_vert_r                           0.398972\n",
       "x5_missing                                        0.330137\n",
       "x2_N                                              0.315484\n",
       "biogrid_counts                                    0.296414\n",
       "x0_Fibronectin type III                           0.244396\n",
       "x0_missing                                        0.222566\n",
       "x3_E                                              0.218343\n",
       "x4_N                                              0.191042\n",
       "gtex_counts                                       0.024692\n",
       "dtype: float64"
      ]
     },
     "execution_count": 24,
     "metadata": {},
     "output_type": "execute_result"
    }
   ],
   "source": [
    "coefs.index = cols\n",
    "coefs = coefs.sort_values(ascending=False)\n",
    "coefs[(coefs > 1.4)|(coefs<0.5)]"
   ]
  },
  {
   "cell_type": "markdown",
   "metadata": {},
   "source": [
    "### Qué coeficientes son estadísticamente significativos?\n",
    "\n",
    "### Son robustos estos resultados? \n",
    "* El orden relativo de importancia fluctua con las itearaciones? En qué medida?\n",
    "\n",
    "\n",
    "### Cómo cambia si implementamos el término de regularización? \n",
    "* Se puede extraer un p-value y un intervalo de confianza para los coeficientes de c/variable en el caso de usar regularización?\n",
    "* De qué modo lo deberíamos implementar?\n",
    "\n",
    "* Que coeficientes sosbreviven al ir aumentando el término de regularización? \n",
    "* Esto depende de si usamos L1 o L2?\n"
   ]
  }
 ],
 "metadata": {
  "kernelspec": {
   "display_name": "Python 3",
   "language": "python",
   "name": "python3"
  },
  "language_info": {
   "codemirror_mode": {
    "name": "ipython",
    "version": 3
   },
   "file_extension": ".py",
   "mimetype": "text/x-python",
   "name": "python",
   "nbconvert_exporter": "python",
   "pygments_lexer": "ipython3",
   "version": "3.6.9"
  }
 },
 "nbformat": 4,
 "nbformat_minor": 2
}
