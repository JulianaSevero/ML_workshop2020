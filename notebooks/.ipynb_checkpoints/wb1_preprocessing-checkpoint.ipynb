{
 "cells": [
  {
   "cell_type": "markdown",
   "metadata": {},
   "source": [
    "### Mounting your google drive on Colab Noetebook"
   ]
  },
  {
   "cell_type": "code",
   "execution_count": null,
   "metadata": {},
   "outputs": [],
   "source": [
    "from google.colab import drive\n",
    "## esto te va a pedir autorización. \n",
    "# Entra al link. Dale los permisos. Copiate el passw y pegalo acá donde te lo pide\n",
    "drive.mount('/content/drive')"
   ]
  },
  {
   "cell_type": "code",
   "execution_count": null,
   "metadata": {},
   "outputs": [],
   "source": [
    "## remplazá 'workshopml'\n",
    "# por el nombre que le hayas puesto a esa carpeta en drive si usaste otro distinto\n",
    "%cd drive/My Drive/workshopml/ML_workshop2020/  \n",
    "datapath = './data/clinvarHC_modeling.csv.gz'\n"
   ]
  },
  {
   "cell_type": "code",
   "execution_count": 2,
   "metadata": {},
   "outputs": [],
   "source": [
    "%matplotlib inline\n",
    "\n",
    "# data manipulation\n",
    "import pandas as pd\n",
    "import numpy as np\n",
    "\n",
    "## learning\n",
    "from sklearn.model_selection import train_test_split\n",
    "from sklearn.linear_model import LogisticRegression\n",
    "from sklearn.pipeline import Pipeline\n",
    "\n",
    "## preprocessing\n",
    "from sklearn.impute import SimpleImputer\n",
    "from sklearn.preprocessing import OneHotEncoder\n",
    "from sklearn.compose import ColumnTransformer\n",
    "from sklearn.preprocessing import StandardScaler\n",
    "\n",
    "\n",
    "### model performance\n",
    "from sklearn import metrics\n",
    "\n",
    "#ploting modules\n",
    "import matplotlib\n",
    "from matplotlib import pyplot as plt\n",
    "import seaborn\n",
    "\n"
   ]
  },
  {
   "cell_type": "code",
   "execution_count": 6,
   "metadata": {},
   "outputs": [
    {
     "data": {
      "text/html": [
       "<div>\n",
       "<style scoped>\n",
       "    .dataframe tbody tr th:only-of-type {\n",
       "        vertical-align: middle;\n",
       "    }\n",
       "\n",
       "    .dataframe tbody tr th {\n",
       "        vertical-align: top;\n",
       "    }\n",
       "\n",
       "    .dataframe thead th {\n",
       "        text-align: right;\n",
       "    }\n",
       "</style>\n",
       "<table border=\"1\" class=\"dataframe\">\n",
       "  <thead>\n",
       "    <tr style=\"text-align: right;\">\n",
       "      <th></th>\n",
       "      <th>gerp_gerp_nr</th>\n",
       "      <th>gerp_gerp_rs</th>\n",
       "      <th>linsight_value</th>\n",
       "      <th>phastcons_phastcons100_vert</th>\n",
       "      <th>phastcons_phastcons30_mamm</th>\n",
       "      <th>phylop_phylop100_vert</th>\n",
       "      <th>phylop_phylop100_vert_r</th>\n",
       "      <th>phylop_phylop30_mamm</th>\n",
       "      <th>segway_sum_score</th>\n",
       "      <th>segway_mean_score</th>\n",
       "      <th>...</th>\n",
       "      <th>intact_counts</th>\n",
       "      <th>gnomad_gene_oe_lof_min</th>\n",
       "      <th>gnomad_gene_oe_mis_min</th>\n",
       "      <th>gnomad_gene_oe_syn_min</th>\n",
       "      <th>gnomad_gene_lof_z_max</th>\n",
       "      <th>gnomad_gene_mis_z_max</th>\n",
       "      <th>gnomad_gene_syn_z_max</th>\n",
       "      <th>gnomad_gene_pLI_max</th>\n",
       "      <th>gnomad_gene_pRec_max</th>\n",
       "      <th>gnomad_gene_pNull_max</th>\n",
       "    </tr>\n",
       "    <tr>\n",
       "      <th>ChrPosRefAlt</th>\n",
       "      <th></th>\n",
       "      <th></th>\n",
       "      <th></th>\n",
       "      <th></th>\n",
       "      <th></th>\n",
       "      <th></th>\n",
       "      <th></th>\n",
       "      <th></th>\n",
       "      <th></th>\n",
       "      <th></th>\n",
       "      <th></th>\n",
       "      <th></th>\n",
       "      <th></th>\n",
       "      <th></th>\n",
       "      <th></th>\n",
       "      <th></th>\n",
       "      <th></th>\n",
       "      <th></th>\n",
       "      <th></th>\n",
       "      <th></th>\n",
       "      <th></th>\n",
       "    </tr>\n",
       "  </thead>\n",
       "  <tbody>\n",
       "    <tr>\n",
       "      <th>chr16-68771319-A-G</th>\n",
       "      <td>5.01</td>\n",
       "      <td>3.86</td>\n",
       "      <td>NaN</td>\n",
       "      <td>1.000</td>\n",
       "      <td>0.568</td>\n",
       "      <td>1.851</td>\n",
       "      <td>0.38978</td>\n",
       "      <td>1.193</td>\n",
       "      <td>327.004463</td>\n",
       "      <td>0.155716</td>\n",
       "      <td>...</td>\n",
       "      <td>80.0</td>\n",
       "      <td>0.252330</td>\n",
       "      <td>0.87288</td>\n",
       "      <td>0.96124</td>\n",
       "      <td>4.1615</td>\n",
       "      <td>0.99338</td>\n",
       "      <td>0.4153</td>\n",
       "      <td>1.136900e-01</td>\n",
       "      <td>9.414900e-01</td>\n",
       "      <td>5.633100e-06</td>\n",
       "    </tr>\n",
       "    <tr>\n",
       "      <th>chr16-89347612-C-T</th>\n",
       "      <td>4.90</td>\n",
       "      <td>2.56</td>\n",
       "      <td>NaN</td>\n",
       "      <td>0.979</td>\n",
       "      <td>0.001</td>\n",
       "      <td>1.370</td>\n",
       "      <td>0.33843</td>\n",
       "      <td>0.156</td>\n",
       "      <td>NaN</td>\n",
       "      <td>NaN</td>\n",
       "      <td>...</td>\n",
       "      <td>78.0</td>\n",
       "      <td>0.000000</td>\n",
       "      <td>0.32723</td>\n",
       "      <td>1.07200</td>\n",
       "      <td>8.1765</td>\n",
       "      <td>2.86210</td>\n",
       "      <td>-8.5188</td>\n",
       "      <td>1.000000e+00</td>\n",
       "      <td>2.154200e-11</td>\n",
       "      <td>3.401600e-30</td>\n",
       "    </tr>\n",
       "    <tr>\n",
       "      <th>chr16-89828357-C-T</th>\n",
       "      <td>4.81</td>\n",
       "      <td>4.81</td>\n",
       "      <td>NaN</td>\n",
       "      <td>1.000</td>\n",
       "      <td>0.083</td>\n",
       "      <td>2.645</td>\n",
       "      <td>0.46287</td>\n",
       "      <td>0.928</td>\n",
       "      <td>3.414770</td>\n",
       "      <td>0.008537</td>\n",
       "      <td>...</td>\n",
       "      <td>22.0</td>\n",
       "      <td>1.184600</td>\n",
       "      <td>1.46670</td>\n",
       "      <td>1.36600</td>\n",
       "      <td>-2.6770</td>\n",
       "      <td>-5.33250</td>\n",
       "      <td>-8.0959</td>\n",
       "      <td>6.271600e-24</td>\n",
       "      <td>7.515800e-06</td>\n",
       "      <td>1.000000e+00</td>\n",
       "    </tr>\n",
       "    <tr>\n",
       "      <th>chr17-29559848-A-G</th>\n",
       "      <td>5.55</td>\n",
       "      <td>5.55</td>\n",
       "      <td>NaN</td>\n",
       "      <td>1.000</td>\n",
       "      <td>1.000</td>\n",
       "      <td>8.883</td>\n",
       "      <td>0.92057</td>\n",
       "      <td>1.312</td>\n",
       "      <td>NaN</td>\n",
       "      <td>NaN</td>\n",
       "      <td>...</td>\n",
       "      <td>65.0</td>\n",
       "      <td>0.099274</td>\n",
       "      <td>0.46426</td>\n",
       "      <td>0.68277</td>\n",
       "      <td>9.0283</td>\n",
       "      <td>6.94900</td>\n",
       "      <td>1.6143</td>\n",
       "      <td>9.999100e-01</td>\n",
       "      <td>8.912700e-05</td>\n",
       "      <td>6.877000e-29</td>\n",
       "    </tr>\n",
       "    <tr>\n",
       "      <th>chr17-48275353-C-A</th>\n",
       "      <td>4.38</td>\n",
       "      <td>4.38</td>\n",
       "      <td>NaN</td>\n",
       "      <td>1.000</td>\n",
       "      <td>0.997</td>\n",
       "      <td>5.992</td>\n",
       "      <td>0.70282</td>\n",
       "      <td>1.026</td>\n",
       "      <td>1271.860020</td>\n",
       "      <td>0.100941</td>\n",
       "      <td>...</td>\n",
       "      <td>12.0</td>\n",
       "      <td>0.045581</td>\n",
       "      <td>0.67284</td>\n",
       "      <td>1.08020</td>\n",
       "      <td>8.3326</td>\n",
       "      <td>3.51160</td>\n",
       "      <td>-1.2711</td>\n",
       "      <td>1.000000e+00</td>\n",
       "      <td>7.084000e-12</td>\n",
       "      <td>2.265400e-31</td>\n",
       "    </tr>\n",
       "  </tbody>\n",
       "</table>\n",
       "<p>5 rows × 39 columns</p>\n",
       "</div>"
      ],
      "text/plain": [
       "                    gerp_gerp_nr  gerp_gerp_rs  linsight_value  \\\n",
       "ChrPosRefAlt                                                     \n",
       "chr16-68771319-A-G          5.01          3.86             NaN   \n",
       "chr16-89347612-C-T          4.90          2.56             NaN   \n",
       "chr16-89828357-C-T          4.81          4.81             NaN   \n",
       "chr17-29559848-A-G          5.55          5.55             NaN   \n",
       "chr17-48275353-C-A          4.38          4.38             NaN   \n",
       "\n",
       "                    phastcons_phastcons100_vert  phastcons_phastcons30_mamm  \\\n",
       "ChrPosRefAlt                                                                  \n",
       "chr16-68771319-A-G                        1.000                       0.568   \n",
       "chr16-89347612-C-T                        0.979                       0.001   \n",
       "chr16-89828357-C-T                        1.000                       0.083   \n",
       "chr17-29559848-A-G                        1.000                       1.000   \n",
       "chr17-48275353-C-A                        1.000                       0.997   \n",
       "\n",
       "                    phylop_phylop100_vert  phylop_phylop100_vert_r  \\\n",
       "ChrPosRefAlt                                                         \n",
       "chr16-68771319-A-G                  1.851                  0.38978   \n",
       "chr16-89347612-C-T                  1.370                  0.33843   \n",
       "chr16-89828357-C-T                  2.645                  0.46287   \n",
       "chr17-29559848-A-G                  8.883                  0.92057   \n",
       "chr17-48275353-C-A                  5.992                  0.70282   \n",
       "\n",
       "                    phylop_phylop30_mamm  segway_sum_score  segway_mean_score  \\\n",
       "ChrPosRefAlt                                                                    \n",
       "chr16-68771319-A-G                 1.193        327.004463           0.155716   \n",
       "chr16-89347612-C-T                 0.156               NaN                NaN   \n",
       "chr16-89828357-C-T                 0.928          3.414770           0.008537   \n",
       "chr17-29559848-A-G                 1.312               NaN                NaN   \n",
       "chr17-48275353-C-A                 1.026       1271.860020           0.100941   \n",
       "\n",
       "                    ...  intact_counts  gnomad_gene_oe_lof_min  \\\n",
       "ChrPosRefAlt        ...                                          \n",
       "chr16-68771319-A-G  ...           80.0                0.252330   \n",
       "chr16-89347612-C-T  ...           78.0                0.000000   \n",
       "chr16-89828357-C-T  ...           22.0                1.184600   \n",
       "chr17-29559848-A-G  ...           65.0                0.099274   \n",
       "chr17-48275353-C-A  ...           12.0                0.045581   \n",
       "\n",
       "                   gnomad_gene_oe_mis_min  gnomad_gene_oe_syn_min  \\\n",
       "ChrPosRefAlt                                                        \n",
       "chr16-68771319-A-G                0.87288                 0.96124   \n",
       "chr16-89347612-C-T                0.32723                 1.07200   \n",
       "chr16-89828357-C-T                1.46670                 1.36600   \n",
       "chr17-29559848-A-G                0.46426                 0.68277   \n",
       "chr17-48275353-C-A                0.67284                 1.08020   \n",
       "\n",
       "                    gnomad_gene_lof_z_max gnomad_gene_mis_z_max  \\\n",
       "ChrPosRefAlt                                                      \n",
       "chr16-68771319-A-G                 4.1615               0.99338   \n",
       "chr16-89347612-C-T                 8.1765               2.86210   \n",
       "chr16-89828357-C-T                -2.6770              -5.33250   \n",
       "chr17-29559848-A-G                 9.0283               6.94900   \n",
       "chr17-48275353-C-A                 8.3326               3.51160   \n",
       "\n",
       "                   gnomad_gene_syn_z_max gnomad_gene_pLI_max  \\\n",
       "ChrPosRefAlt                                                   \n",
       "chr16-68771319-A-G                0.4153        1.136900e-01   \n",
       "chr16-89347612-C-T               -8.5188        1.000000e+00   \n",
       "chr16-89828357-C-T               -8.0959        6.271600e-24   \n",
       "chr17-29559848-A-G                1.6143        9.999100e-01   \n",
       "chr17-48275353-C-A               -1.2711        1.000000e+00   \n",
       "\n",
       "                   gnomad_gene_pRec_max  gnomad_gene_pNull_max  \n",
       "ChrPosRefAlt                                                    \n",
       "chr16-68771319-A-G         9.414900e-01           5.633100e-06  \n",
       "chr16-89347612-C-T         2.154200e-11           3.401600e-30  \n",
       "chr16-89828357-C-T         7.515800e-06           1.000000e+00  \n",
       "chr17-29559848-A-G         8.912700e-05           6.877000e-29  \n",
       "chr17-48275353-C-A         7.084000e-12           2.265400e-31  \n",
       "\n",
       "[5 rows x 39 columns]"
      ]
     },
     "metadata": {},
     "output_type": "display_data"
    },
    {
     "data": {
      "text/html": [
       "<div>\n",
       "<style scoped>\n",
       "    .dataframe tbody tr th:only-of-type {\n",
       "        vertical-align: middle;\n",
       "    }\n",
       "\n",
       "    .dataframe tbody tr th {\n",
       "        vertical-align: top;\n",
       "    }\n",
       "\n",
       "    .dataframe thead th {\n",
       "        text-align: right;\n",
       "    }\n",
       "</style>\n",
       "<table border=\"1\" class=\"dataframe\">\n",
       "  <thead>\n",
       "    <tr style=\"text-align: right;\">\n",
       "      <th></th>\n",
       "      <th>clinSigSimple</th>\n",
       "    </tr>\n",
       "    <tr>\n",
       "      <th>ChrPosRefAlt</th>\n",
       "      <th></th>\n",
       "    </tr>\n",
       "  </thead>\n",
       "  <tbody>\n",
       "    <tr>\n",
       "      <th>chr16-68771319-A-G</th>\n",
       "      <td>1</td>\n",
       "    </tr>\n",
       "    <tr>\n",
       "      <th>chr16-89347612-C-T</th>\n",
       "      <td>0</td>\n",
       "    </tr>\n",
       "    <tr>\n",
       "      <th>chr16-89828357-C-T</th>\n",
       "      <td>1</td>\n",
       "    </tr>\n",
       "    <tr>\n",
       "      <th>chr17-29559848-A-G</th>\n",
       "      <td>1</td>\n",
       "    </tr>\n",
       "    <tr>\n",
       "      <th>chr17-48275353-C-A</th>\n",
       "      <td>1</td>\n",
       "    </tr>\n",
       "  </tbody>\n",
       "</table>\n",
       "</div>"
      ],
      "text/plain": [
       "                    clinSigSimple\n",
       "ChrPosRefAlt                     \n",
       "chr16-68771319-A-G              1\n",
       "chr16-89347612-C-T              0\n",
       "chr16-89828357-C-T              1\n",
       "chr17-29559848-A-G              1\n",
       "chr17-48275353-C-A              1"
      ]
     },
     "metadata": {},
     "output_type": "display_data"
    }
   ],
   "source": [
    "SEED = 2718281\n",
    "data = pd.read_csv(datapath,sep = ',',index_col='ChrPosRefAlt')\n",
    "X,y = data.drop(['clinSigSimple'],axis = 1), data[['clinSigSimple']]\n",
    "display(X.head())\n",
    "display(y.head())\n",
    "#y.columns = ['ChrPosRefAlt','ClinvarHC']\n",
    "#y.set_index(['ChrPosRefAlt'],inplace = True) "
   ]
  },
  {
   "cell_type": "markdown",
   "metadata": {},
   "source": [
    "### Hacemos el split en training y tesing sets. "
   ]
  },
  {
   "cell_type": "code",
   "execution_count": 4,
   "metadata": {},
   "outputs": [],
   "source": [
    "# Prueben con esta\n",
    "#X_train, X_test, y_train, y_test = train_test_split(X, y, test_size=0.20, random_state=100)\n",
    "#display(y.ClinvarHC.value_counts(normalize = True)[1]),\n",
    "#display(y_train.ClinvarHC.value_counts(normalize = True)[1]), \n",
    "#y_test.ClinvarHC.value_counts(normalize = True)[1]\n",
    "\n",
    "\n",
    "# La forma correcta, para respetar la proporción de categorías:\n",
    "\n",
    "X_train, X_test, y_train, y_test = train_test_split(X, y, test_size=0.50, random_state=SEED,stratify = y)\n"
   ]
  },
  {
   "cell_type": "markdown",
   "metadata": {},
   "source": [
    "### Podemos ya entrenar el primer modelo? \n",
    "* Falla, por qué?"
   ]
  },
  {
   "cell_type": "code",
   "execution_count": 5,
   "metadata": {},
   "outputs": [],
   "source": [
    "#LR = LogisticRegression(random_state=0).fit(X_train, y_train) # est va a romperse..."
   ]
  },
  {
   "cell_type": "markdown",
   "metadata": {},
   "source": [
    "### Básiscamente tenemos 2 grandes problemas\n",
    "* 1) Los Features categóricos no tienen un tratamiento numérico. Debemos binarizarlos. \n",
    "* 2) Lo Features continuos tienen Nulls, y una regresión Logística no puede lidiar con Nulls. \n",
    "* 3) Además es conveniente escalar las variables antes de correr una RL (aunque esto último no impide correr el modelo)"
   ]
  },
  {
   "cell_type": "markdown",
   "metadata": {},
   "source": [
    "# Algunas notas antes de empezar\n",
    "\n",
    "#### Por favor, no preprocecsar el Dataset en forma global antes de arrancar. \n",
    "* Lo van a ver a menudo, pero no es el camino correcto. \n",
    "* Puede traer problemas de generalización\n"
   ]
  },
  {
   "cell_type": "markdown",
   "metadata": {},
   "source": [
    "\n",
    "### Lo correcto es trabajar con pipelines. \n",
    "* Los pipelines son una manera de integrar nuestro modelo. \n",
    "\n",
    "* Nuestro modelo no tenemos que pensarlo como, por ejemplo una \"regresión logística\", sobre datos ya preprocesados de antemano, sino que el preprocesamiento, imputación, y otras transformaciones hay que pensarlas como parte del modelo mismo).\n",
    "\n"
   ]
  },
  {
   "cell_type": "markdown",
   "metadata": {},
   "source": [
    "## Empezemos detectando las variables categóricas."
   ]
  },
  {
   "cell_type": "code",
   "execution_count": 6,
   "metadata": {},
   "outputs": [
    {
     "name": "stdout",
     "output_type": "stream",
     "text": [
      "tenemos 33 variables numéricas\n",
      "tenemos 6 variables categóricas\n"
     ]
    },
    {
     "data": {
      "text/plain": [
       "['interpro_domain_simple',\n",
       " 'ess_gene_ess_gene',\n",
       " 'ess_gene_ess_gene_crispr',\n",
       " 'ess_gene_ess_gene_crispr2',\n",
       " 'ess_gene_ess_gene_gene_trap',\n",
       " 'exac_gene_exac_cnv_flag']"
      ]
     },
     "execution_count": 6,
     "metadata": {},
     "output_type": "execute_result"
    }
   ],
   "source": [
    "categorical_feature_mask = X_train.dtypes==object       # esto nos da un vector booleano \n",
    "categorical_columns = X_train.columns[categorical_feature_mask].tolist()  # acá picnhamos los nombres de esas columnas\n",
    "\n",
    "numerical_columns = X_train.columns[~X_train.columns.isin(categorical_columns)] # defino las numéricas como el complemento de las categóricas \n",
    "print(\"tenemos %s variables numéricas\"%len(numerical_columns))\n",
    "print(\"tenemos %s variables categóricas\"%len(categorical_columns))\n",
    "\n",
    "categorical_columns"
   ]
  },
  {
   "cell_type": "markdown",
   "metadata": {},
   "source": [
    "* Ojo, pues caundo vectorizemos las variables categóricas, tendremos una variable por cada una de sus categorías (-1 para evitar colinealidades)"
   ]
  },
  {
   "cell_type": "code",
   "execution_count": 7,
   "metadata": {},
   "outputs": [
    {
     "name": "stdout",
     "output_type": "stream",
     "text": [
      "Número de Categorías por Variable\n"
     ]
    },
    {
     "data": {
      "text/plain": [
       "interpro_domain_simple         8\n",
       "ess_gene_ess_gene              2\n",
       "ess_gene_ess_gene_crispr       2\n",
       "ess_gene_ess_gene_crispr2      3\n",
       "ess_gene_ess_gene_gene_trap    4\n",
       "exac_gene_exac_cnv_flag        2\n",
       "dtype: int64"
      ]
     },
     "execution_count": 7,
     "metadata": {},
     "output_type": "execute_result"
    }
   ],
   "source": [
    "print ('Número de Categorías por Variable')\n",
    "X_train[categorical_columns].apply(lambda x: x.nunique())\n",
    "# Esto nos dice que son 21 categorías\n"
   ]
  },
  {
   "cell_type": "code",
   "execution_count": 8,
   "metadata": {},
   "outputs": [
    {
     "name": "stdout",
     "output_type": "stream",
     "text": [
      "Porcentaje de filas Null por Variable\n"
     ]
    },
    {
     "data": {
      "text/plain": [
       "<matplotlib.axes._subplots.AxesSubplot at 0x7f25b8b067f0>"
      ]
     },
     "execution_count": 8,
     "metadata": {},
     "output_type": "execute_result"
    },
    {
     "data": {
      "image/png": "[encoded data removed]",
      "text/plain": [
       "<Figure size 432x288 with 1 Axes>"
      ]
     },
     "metadata": {
      "needs_background": "light"
     },
     "output_type": "display_data"
    }
   ],
   "source": [
    "print ('Porcentaje de filas Null por Variable')\n",
    "X_train[categorical_columns].apply(lambda x: x.isnull().sum()/len(x)).plot(kind = 'bar') \n",
    "# Y hay varios nulls o 'Missing categories' en cada variale"
   ]
  },
  {
   "cell_type": "markdown",
   "metadata": {},
   "source": [
    "# Cuántas columnas esperan que se genere en la  binarización del dataset?"
   ]
  },
  {
   "cell_type": "markdown",
   "metadata": {},
   "source": [
    "#### veamos"
   ]
  },
  {
   "cell_type": "code",
   "execution_count": 9,
   "metadata": {},
   "outputs": [
    {
     "data": {
      "text/plain": [
       "array(['x0_ABC transporter-like',\n",
       "       'x0_Aromatic amino acid hydroxylase, C-terminal',\n",
       "       'x0_EGF-like domain', 'x0_Fibronectin type III',\n",
       "       'x0_Ion transport domain', 'x0_Myosin head, motor domain',\n",
       "       'x0_Serine-threonine/tyrosine-protein kinase, catalytic domain',\n",
       "       'x0_missing', 'x0_others', 'x1_E', 'x1_N', 'x1_missing', 'x2_E',\n",
       "       'x2_N', 'x2_missing', 'x3_E', 'x3_N', 'x3_S', 'x3_missing', 'x4_E',\n",
       "       'x4_H', 'x4_K', 'x4_N', 'x4_missing', 'x5_N', 'x5_Y', 'x5_missing'],\n",
       "      dtype=object)"
      ]
     },
     "execution_count": 9,
     "metadata": {},
     "output_type": "execute_result"
    }
   ],
   "source": [
    "categorical_transformer = Pipeline(steps=[\n",
    "    ('cat_imputer', SimpleImputer(strategy='constant', fill_value='missing')),  \n",
    "    ('onehot', OneHotEncoder(handle_unknown='ignore'))])      \n",
    "# Uno podría incluir drop='first' para evitar colinealidades, pero no si tenemos seteado handle_unknown = 'ignore'\n",
    "\n",
    "Xtmp = X_train[categorical_columns]  # matrz temporal \n",
    "Xtmp_transformed = categorical_transformer.fit_transform(Xtmp)\n",
    "feature_names = categorical_transformer.named_steps['onehot'].get_feature_names()\n",
    "feature_names"
   ]
  },
  {
   "cell_type": "markdown",
   "metadata": {},
   "source": [
    "## Qué hicimos? \n",
    "* 1) SimpleImputer:  imputamos el valor \"missing\", cuando hay un valor None.\n",
    "* 2) OneHotEncoder:  transformamos esas variables categóricas a variables numéricas binarias, una por cada categoría presente en cada variable\n",
    "\n"
   ]
  },
  {
   "cell_type": "markdown",
   "metadata": {},
   "source": [
    "#### Sólo para visualizarlo y entenderlo mejor:\n",
    "(y responder la pregunta de arriba)\n"
   ]
  },
  {
   "cell_type": "code",
   "execution_count": 10,
   "metadata": {},
   "outputs": [
    {
     "name": "stdout",
     "output_type": "stream",
     "text": [
      "(5, 27)\n"
     ]
    },
    {
     "data": {
      "text/html": [
       "<div>\n",
       "<style scoped>\n",
       "    .dataframe tbody tr th:only-of-type {\n",
       "        vertical-align: middle;\n",
       "    }\n",
       "\n",
       "    .dataframe tbody tr th {\n",
       "        vertical-align: top;\n",
       "    }\n",
       "\n",
       "    .dataframe thead th {\n",
       "        text-align: right;\n",
       "    }\n",
       "</style>\n",
       "<table border=\"1\" class=\"dataframe\">\n",
       "  <thead>\n",
       "    <tr style=\"text-align: right;\">\n",
       "      <th></th>\n",
       "      <th>x0_ABC transporter-like</th>\n",
       "      <th>x0_Aromatic amino acid hydroxylase, C-terminal</th>\n",
       "      <th>x0_EGF-like domain</th>\n",
       "      <th>x0_Fibronectin type III</th>\n",
       "      <th>x0_Ion transport domain</th>\n",
       "      <th>x0_Myosin head, motor domain</th>\n",
       "      <th>x0_Serine-threonine/tyrosine-protein kinase, catalytic domain</th>\n",
       "      <th>x0_missing</th>\n",
       "      <th>x0_others</th>\n",
       "      <th>x1_E</th>\n",
       "      <th>...</th>\n",
       "      <th>x3_S</th>\n",
       "      <th>x3_missing</th>\n",
       "      <th>x4_E</th>\n",
       "      <th>x4_H</th>\n",
       "      <th>x4_K</th>\n",
       "      <th>x4_N</th>\n",
       "      <th>x4_missing</th>\n",
       "      <th>x5_N</th>\n",
       "      <th>x5_Y</th>\n",
       "      <th>x5_missing</th>\n",
       "    </tr>\n",
       "  </thead>\n",
       "  <tbody>\n",
       "    <tr>\n",
       "      <th>0</th>\n",
       "      <td>0.0</td>\n",
       "      <td>0.0</td>\n",
       "      <td>0.0</td>\n",
       "      <td>0.0</td>\n",
       "      <td>0.0</td>\n",
       "      <td>0.0</td>\n",
       "      <td>0.0</td>\n",
       "      <td>1.0</td>\n",
       "      <td>0.0</td>\n",
       "      <td>0.0</td>\n",
       "      <td>...</td>\n",
       "      <td>0.0</td>\n",
       "      <td>1.0</td>\n",
       "      <td>0.0</td>\n",
       "      <td>0.0</td>\n",
       "      <td>0.0</td>\n",
       "      <td>0.0</td>\n",
       "      <td>1.0</td>\n",
       "      <td>1.0</td>\n",
       "      <td>0.0</td>\n",
       "      <td>0.0</td>\n",
       "    </tr>\n",
       "    <tr>\n",
       "      <th>1</th>\n",
       "      <td>0.0</td>\n",
       "      <td>0.0</td>\n",
       "      <td>0.0</td>\n",
       "      <td>0.0</td>\n",
       "      <td>0.0</td>\n",
       "      <td>0.0</td>\n",
       "      <td>0.0</td>\n",
       "      <td>0.0</td>\n",
       "      <td>1.0</td>\n",
       "      <td>0.0</td>\n",
       "      <td>...</td>\n",
       "      <td>0.0</td>\n",
       "      <td>1.0</td>\n",
       "      <td>0.0</td>\n",
       "      <td>0.0</td>\n",
       "      <td>0.0</td>\n",
       "      <td>0.0</td>\n",
       "      <td>1.0</td>\n",
       "      <td>1.0</td>\n",
       "      <td>0.0</td>\n",
       "      <td>0.0</td>\n",
       "    </tr>\n",
       "    <tr>\n",
       "      <th>2</th>\n",
       "      <td>0.0</td>\n",
       "      <td>0.0</td>\n",
       "      <td>0.0</td>\n",
       "      <td>0.0</td>\n",
       "      <td>0.0</td>\n",
       "      <td>0.0</td>\n",
       "      <td>0.0</td>\n",
       "      <td>1.0</td>\n",
       "      <td>0.0</td>\n",
       "      <td>1.0</td>\n",
       "      <td>...</td>\n",
       "      <td>0.0</td>\n",
       "      <td>0.0</td>\n",
       "      <td>0.0</td>\n",
       "      <td>0.0</td>\n",
       "      <td>0.0</td>\n",
       "      <td>1.0</td>\n",
       "      <td>0.0</td>\n",
       "      <td>0.0</td>\n",
       "      <td>1.0</td>\n",
       "      <td>0.0</td>\n",
       "    </tr>\n",
       "    <tr>\n",
       "      <th>3</th>\n",
       "      <td>0.0</td>\n",
       "      <td>0.0</td>\n",
       "      <td>0.0</td>\n",
       "      <td>0.0</td>\n",
       "      <td>0.0</td>\n",
       "      <td>0.0</td>\n",
       "      <td>0.0</td>\n",
       "      <td>1.0</td>\n",
       "      <td>0.0</td>\n",
       "      <td>1.0</td>\n",
       "      <td>...</td>\n",
       "      <td>0.0</td>\n",
       "      <td>0.0</td>\n",
       "      <td>0.0</td>\n",
       "      <td>0.0</td>\n",
       "      <td>1.0</td>\n",
       "      <td>0.0</td>\n",
       "      <td>0.0</td>\n",
       "      <td>1.0</td>\n",
       "      <td>0.0</td>\n",
       "      <td>0.0</td>\n",
       "    </tr>\n",
       "    <tr>\n",
       "      <th>4</th>\n",
       "      <td>0.0</td>\n",
       "      <td>0.0</td>\n",
       "      <td>0.0</td>\n",
       "      <td>0.0</td>\n",
       "      <td>0.0</td>\n",
       "      <td>0.0</td>\n",
       "      <td>0.0</td>\n",
       "      <td>1.0</td>\n",
       "      <td>0.0</td>\n",
       "      <td>1.0</td>\n",
       "      <td>...</td>\n",
       "      <td>0.0</td>\n",
       "      <td>0.0</td>\n",
       "      <td>0.0</td>\n",
       "      <td>0.0</td>\n",
       "      <td>0.0</td>\n",
       "      <td>1.0</td>\n",
       "      <td>0.0</td>\n",
       "      <td>1.0</td>\n",
       "      <td>0.0</td>\n",
       "      <td>0.0</td>\n",
       "    </tr>\n",
       "  </tbody>\n",
       "</table>\n",
       "<p>5 rows × 27 columns</p>\n",
       "</div>"
      ],
      "text/plain": [
       "   x0_ABC transporter-like  x0_Aromatic amino acid hydroxylase, C-terminal  \\\n",
       "0                      0.0                                             0.0   \n",
       "1                      0.0                                             0.0   \n",
       "2                      0.0                                             0.0   \n",
       "3                      0.0                                             0.0   \n",
       "4                      0.0                                             0.0   \n",
       "\n",
       "   x0_EGF-like domain  x0_Fibronectin type III  x0_Ion transport domain  \\\n",
       "0                 0.0                      0.0                      0.0   \n",
       "1                 0.0                      0.0                      0.0   \n",
       "2                 0.0                      0.0                      0.0   \n",
       "3                 0.0                      0.0                      0.0   \n",
       "4                 0.0                      0.0                      0.0   \n",
       "\n",
       "   x0_Myosin head, motor domain  \\\n",
       "0                           0.0   \n",
       "1                           0.0   \n",
       "2                           0.0   \n",
       "3                           0.0   \n",
       "4                           0.0   \n",
       "\n",
       "   x0_Serine-threonine/tyrosine-protein kinase, catalytic domain  x0_missing  \\\n",
       "0                                                0.0                     1.0   \n",
       "1                                                0.0                     0.0   \n",
       "2                                                0.0                     1.0   \n",
       "3                                                0.0                     1.0   \n",
       "4                                                0.0                     1.0   \n",
       "\n",
       "   x0_others  x1_E  ...  x3_S  x3_missing  x4_E  x4_H  x4_K  x4_N  x4_missing  \\\n",
       "0        0.0   0.0  ...   0.0         1.0   0.0   0.0   0.0   0.0         1.0   \n",
       "1        1.0   0.0  ...   0.0         1.0   0.0   0.0   0.0   0.0         1.0   \n",
       "2        0.0   1.0  ...   0.0         0.0   0.0   0.0   0.0   1.0         0.0   \n",
       "3        0.0   1.0  ...   0.0         0.0   0.0   0.0   1.0   0.0         0.0   \n",
       "4        0.0   1.0  ...   0.0         0.0   0.0   0.0   0.0   1.0         0.0   \n",
       "\n",
       "   x5_N  x5_Y  x5_missing  \n",
       "0   1.0   0.0         0.0  \n",
       "1   1.0   0.0         0.0  \n",
       "2   0.0   1.0         0.0  \n",
       "3   1.0   0.0         0.0  \n",
       "4   1.0   0.0         0.0  \n",
       "\n",
       "[5 rows x 27 columns]"
      ]
     },
     "execution_count": 10,
     "metadata": {},
     "output_type": "execute_result"
    }
   ],
   "source": [
    "aux = pd.DataFrame(Xtmp_transformed.toarray(),columns = feature_names).head()\n",
    "print(aux.shape)\n",
    "aux.head()"
   ]
  },
  {
   "cell_type": "markdown",
   "metadata": {},
   "source": [
    "* Noten arriba, la presencia de columnas \"Missing\" en cada variable\n",
    "\n",
    "\n",
    "#### Listo con el tratamiento básico en las variables categóricas. \n",
    "\n",
    "\n",
    "."
   ]
  },
  {
   "cell_type": "markdown",
   "metadata": {},
   "source": [
    "##   Vamos al tratamiento de las variables numéricas"
   ]
  },
  {
   "cell_type": "markdown",
   "metadata": {},
   "source": [
    "## Vamos a tratarlas de la siguiente forma: \n",
    "* 1) Imputamos en cada valor None, la mediana a lo largo de todos los restantes elementos en ese feature.\n",
    "* notar que es conveniente respecto a imputar el valor medio debido a que la mediana es robusta a outliers.\n",
    "\n",
    "* 2) Standard Scaler  ($Z_{score}$):  Es una forma de normalizar una variable numérica:\n",
    "    $x_{mean}$ : se calcula el valor medio de toda la variable\n",
    "    $x_{sd}$ : se calcula el desvío estandard de toda la variable.\n",
    "    Luego para cada x $\\in$ variable se calcula:\n",
    "\n",
    "$Z_{score} = \\frac{x - x_{mean}}{x_{sd}}$\n"
   ]
  },
  {
   "cell_type": "code",
   "execution_count": 11,
   "metadata": {},
   "outputs": [],
   "source": [
    "numeric_transformer = Pipeline(steps=[\n",
    "    ('num_imputer', SimpleImputer(strategy='median')),\n",
    "    ('scaler', StandardScaler(with_mean=False))])  # Esto es una vacancia de Sklearn, no permite aún \"centrar\" matrizes sparse\n",
    "\n",
    "#(pisamos el anterior, es solo para exp)\n",
    "Xtmp_num = X_train[numerical_columns] \n",
    "Xtmp_num_transformed = numeric_transformer.fit_transform(Xtmp_num)\n",
    "#### Acá no se puede recuperar el nombre de los features, pero por el tipo de transformación permanece inalterado.\n",
    "    \n"
   ]
  },
  {
   "cell_type": "markdown",
   "metadata": {},
   "source": [
    "* en realidad la transformación que hicimos fue:\n",
    "$Z^{*} = \\frac{x }{x_{sd}}$"
   ]
  },
  {
   "cell_type": "code",
   "execution_count": 12,
   "metadata": {},
   "outputs": [
    {
     "name": "stdout",
     "output_type": "stream",
     "text": [
      "(8660, 33)\n"
     ]
    },
    {
     "data": {
      "text/html": [
       "<div>\n",
       "<style scoped>\n",
       "    .dataframe tbody tr th:only-of-type {\n",
       "        vertical-align: middle;\n",
       "    }\n",
       "\n",
       "    .dataframe tbody tr th {\n",
       "        vertical-align: top;\n",
       "    }\n",
       "\n",
       "    .dataframe thead th {\n",
       "        text-align: right;\n",
       "    }\n",
       "</style>\n",
       "<table border=\"1\" class=\"dataframe\">\n",
       "  <thead>\n",
       "    <tr style=\"text-align: right;\">\n",
       "      <th></th>\n",
       "      <th>gerp_gerp_nr</th>\n",
       "      <th>gerp_gerp_rs</th>\n",
       "      <th>linsight_value</th>\n",
       "      <th>phastcons_phastcons100_vert</th>\n",
       "      <th>phastcons_phastcons30_mamm</th>\n",
       "      <th>phylop_phylop100_vert</th>\n",
       "      <th>phylop_phylop100_vert_r</th>\n",
       "      <th>phylop_phylop30_mamm</th>\n",
       "      <th>segway_sum_score</th>\n",
       "      <th>segway_mean_score</th>\n",
       "      <th>...</th>\n",
       "      <th>intact_counts</th>\n",
       "      <th>gnomad_gene_oe_lof_min</th>\n",
       "      <th>gnomad_gene_oe_mis_min</th>\n",
       "      <th>gnomad_gene_oe_syn_min</th>\n",
       "      <th>gnomad_gene_lof_z_max</th>\n",
       "      <th>gnomad_gene_mis_z_max</th>\n",
       "      <th>gnomad_gene_syn_z_max</th>\n",
       "      <th>gnomad_gene_pLI_max</th>\n",
       "      <th>gnomad_gene_pRec_max</th>\n",
       "      <th>gnomad_gene_pNull_max</th>\n",
       "    </tr>\n",
       "  </thead>\n",
       "  <tbody>\n",
       "    <tr>\n",
       "      <th>0</th>\n",
       "      <td>8.079213</td>\n",
       "      <td>-0.563422</td>\n",
       "      <td>39.740042</td>\n",
       "      <td>0.000000</td>\n",
       "      <td>0.002482</td>\n",
       "      <td>-0.656384</td>\n",
       "      <td>0.045468</td>\n",
       "      <td>-0.815921</td>\n",
       "      <td>1.034592</td>\n",
       "      <td>2.071918</td>\n",
       "      <td>...</td>\n",
       "      <td>0.202855</td>\n",
       "      <td>1.248618</td>\n",
       "      <td>3.973989</td>\n",
       "      <td>4.807304</td>\n",
       "      <td>1.055650</td>\n",
       "      <td>0.200487</td>\n",
       "      <td>0.164655</td>\n",
       "      <td>0.000001</td>\n",
       "      <td>2.442042</td>\n",
       "      <td>5.727505e-03</td>\n",
       "    </tr>\n",
       "    <tr>\n",
       "      <th>1</th>\n",
       "      <td>7.687154</td>\n",
       "      <td>1.636608</td>\n",
       "      <td>39.740042</td>\n",
       "      <td>2.335669</td>\n",
       "      <td>2.481608</td>\n",
       "      <td>2.105365</td>\n",
       "      <td>2.647481</td>\n",
       "      <td>1.216766</td>\n",
       "      <td>1.034592</td>\n",
       "      <td>2.071918</td>\n",
       "      <td>...</td>\n",
       "      <td>0.388806</td>\n",
       "      <td>1.372212</td>\n",
       "      <td>4.285581</td>\n",
       "      <td>4.978043</td>\n",
       "      <td>0.860944</td>\n",
       "      <td>0.013597</td>\n",
       "      <td>0.059361</td>\n",
       "      <td>0.000771</td>\n",
       "      <td>2.419925</td>\n",
       "      <td>2.757406e-02</td>\n",
       "    </tr>\n",
       "    <tr>\n",
       "      <th>2</th>\n",
       "      <td>6.819024</td>\n",
       "      <td>1.162617</td>\n",
       "      <td>39.740042</td>\n",
       "      <td>2.335669</td>\n",
       "      <td>2.373658</td>\n",
       "      <td>0.844049</td>\n",
       "      <td>1.657487</td>\n",
       "      <td>1.216766</td>\n",
       "      <td>1.034592</td>\n",
       "      <td>2.071918</td>\n",
       "      <td>...</td>\n",
       "      <td>0.895945</td>\n",
       "      <td>0.000000</td>\n",
       "      <td>3.677523</td>\n",
       "      <td>4.373625</td>\n",
       "      <td>0.996560</td>\n",
       "      <td>0.280412</td>\n",
       "      <td>0.239465</td>\n",
       "      <td>2.106576</td>\n",
       "      <td>1.929310</td>\n",
       "      <td>4.903745e-01</td>\n",
       "    </tr>\n",
       "    <tr>\n",
       "      <th>3</th>\n",
       "      <td>7.981198</td>\n",
       "      <td>0.399463</td>\n",
       "      <td>39.740042</td>\n",
       "      <td>2.085753</td>\n",
       "      <td>2.481608</td>\n",
       "      <td>-0.000595</td>\n",
       "      <td>0.444926</td>\n",
       "      <td>0.152985</td>\n",
       "      <td>1.034592</td>\n",
       "      <td>2.071918</td>\n",
       "      <td>...</td>\n",
       "      <td>1.031182</td>\n",
       "      <td>0.083996</td>\n",
       "      <td>1.739587</td>\n",
       "      <td>3.897273</td>\n",
       "      <td>2.067782</td>\n",
       "      <td>1.801083</td>\n",
       "      <td>0.418024</td>\n",
       "      <td>2.299105</td>\n",
       "      <td>0.000032</td>\n",
       "      <td>1.335614e-13</td>\n",
       "    </tr>\n",
       "    <tr>\n",
       "      <th>4</th>\n",
       "      <td>6.062910</td>\n",
       "      <td>1.290803</td>\n",
       "      <td>39.740042</td>\n",
       "      <td>2.335669</td>\n",
       "      <td>2.322785</td>\n",
       "      <td>1.956362</td>\n",
       "      <td>2.557859</td>\n",
       "      <td>1.394656</td>\n",
       "      <td>1.034592</td>\n",
       "      <td>2.071918</td>\n",
       "      <td>...</td>\n",
       "      <td>0.016905</td>\n",
       "      <td>2.079159</td>\n",
       "      <td>3.873587</td>\n",
       "      <td>5.856730</td>\n",
       "      <td>0.477207</td>\n",
       "      <td>0.411558</td>\n",
       "      <td>-1.771951</td>\n",
       "      <td>0.000002</td>\n",
       "      <td>1.721874</td>\n",
       "      <td>2.622132e+00</td>\n",
       "    </tr>\n",
       "  </tbody>\n",
       "</table>\n",
       "<p>5 rows × 33 columns</p>\n",
       "</div>"
      ],
      "text/plain": [
       "   gerp_gerp_nr  gerp_gerp_rs  linsight_value  phastcons_phastcons100_vert  \\\n",
       "0      8.079213     -0.563422       39.740042                     0.000000   \n",
       "1      7.687154      1.636608       39.740042                     2.335669   \n",
       "2      6.819024      1.162617       39.740042                     2.335669   \n",
       "3      7.981198      0.399463       39.740042                     2.085753   \n",
       "4      6.062910      1.290803       39.740042                     2.335669   \n",
       "\n",
       "   phastcons_phastcons30_mamm  phylop_phylop100_vert  phylop_phylop100_vert_r  \\\n",
       "0                    0.002482              -0.656384                 0.045468   \n",
       "1                    2.481608               2.105365                 2.647481   \n",
       "2                    2.373658               0.844049                 1.657487   \n",
       "3                    2.481608              -0.000595                 0.444926   \n",
       "4                    2.322785               1.956362                 2.557859   \n",
       "\n",
       "   phylop_phylop30_mamm  segway_sum_score  segway_mean_score  ...  \\\n",
       "0             -0.815921          1.034592           2.071918  ...   \n",
       "1              1.216766          1.034592           2.071918  ...   \n",
       "2              1.216766          1.034592           2.071918  ...   \n",
       "3              0.152985          1.034592           2.071918  ...   \n",
       "4              1.394656          1.034592           2.071918  ...   \n",
       "\n",
       "   intact_counts  gnomad_gene_oe_lof_min  gnomad_gene_oe_mis_min  \\\n",
       "0       0.202855                1.248618                3.973989   \n",
       "1       0.388806                1.372212                4.285581   \n",
       "2       0.895945                0.000000                3.677523   \n",
       "3       1.031182                0.083996                1.739587   \n",
       "4       0.016905                2.079159                3.873587   \n",
       "\n",
       "   gnomad_gene_oe_syn_min  gnomad_gene_lof_z_max  gnomad_gene_mis_z_max  \\\n",
       "0                4.807304               1.055650               0.200487   \n",
       "1                4.978043               0.860944               0.013597   \n",
       "2                4.373625               0.996560               0.280412   \n",
       "3                3.897273               2.067782               1.801083   \n",
       "4                5.856730               0.477207               0.411558   \n",
       "\n",
       "   gnomad_gene_syn_z_max  gnomad_gene_pLI_max  gnomad_gene_pRec_max  \\\n",
       "0               0.164655             0.000001              2.442042   \n",
       "1               0.059361             0.000771              2.419925   \n",
       "2               0.239465             2.106576              1.929310   \n",
       "3               0.418024             2.299105              0.000032   \n",
       "4              -1.771951             0.000002              1.721874   \n",
       "\n",
       "   gnomad_gene_pNull_max  \n",
       "0           5.727505e-03  \n",
       "1           2.757406e-02  \n",
       "2           4.903745e-01  \n",
       "3           1.335614e-13  \n",
       "4           2.622132e+00  \n",
       "\n",
       "[5 rows x 33 columns]"
      ]
     },
     "execution_count": 12,
     "metadata": {},
     "output_type": "execute_result"
    }
   ],
   "source": [
    "dfXtmp_numeric_transformed = pd.DataFrame(Xtmp_num_transformed,columns=Xtmp_num.columns)\n",
    "print(dfXtmp_numeric_transformed.shape)\n",
    "dfXtmp_numeric_transformed.head()"
   ]
  },
  {
   "cell_type": "markdown",
   "metadata": {},
   "source": [
    "## Veamos que  pasó con las escala de las variables"
   ]
  },
  {
   "cell_type": "code",
   "execution_count": 13,
   "metadata": {},
   "outputs": [
    {
     "name": "stdout",
     "output_type": "stream",
     "text": [
      "gerp_gerp_nr                   1.0\n",
      "gerp_gerp_rs                   1.0\n",
      "linsight_value                 1.0\n",
      "phastcons_phastcons100_vert    1.0\n",
      "phastcons_phastcons30_mamm     1.0\n",
      "dtype: float64\n"
     ]
    },
    {
     "data": {
      "text/plain": [
       "Text(0, 0.5, 'Numero de features')"
      ]
     },
     "execution_count": 13,
     "metadata": {},
     "output_type": "execute_result"
    },
    {
     "data": {
      "image/png": "[encoded data removed]",
      "text/plain": [
       "<Figure size 432x288 with 1 Axes>"
      ]
     },
     "metadata": {
      "needs_background": "light"
     },
     "output_type": "display_data"
    }
   ],
   "source": [
    "std_old = Xtmp_num.apply(np.std)\n",
    "\n",
    "std_new = dfXtmp_numeric_transformed.apply(np.std)\n",
    "\n",
    "print(std_new.head(5))\n",
    "\n",
    "ax = std_old.apply(np.log2).hist(bins = 50)\n",
    "ax.set_xlabel('log2 (std)')\n",
    "ax.set_ylabel('Numero de features')\n"
   ]
  },
  {
   "cell_type": "markdown",
   "metadata": {},
   "source": [
    "#### preguntas:\n",
    "* Qué significan esos valores negativos? \n",
    "* Que consecuencias puede traer que haya variables con tanta diferencia en su escala?"
   ]
  },
  {
   "cell_type": "markdown",
   "metadata": {},
   "source": [
    "# Ya sabemos preprocesar variables categóricas, y variables numéricas\n",
    "\n",
    "##### Ahora vamos a hacer un único preprocesamiento que unifique todo lo que vimos:\n",
    "\n",
    "* nos vamo a valer de ColumnTransformer, que nos permite hacer distintas operaciones sobre distintos grupos de feautres"
   ]
  },
  {
   "cell_type": "code",
   "execution_count": 15,
   "metadata": {},
   "outputs": [],
   "source": [
    "## estas 3 líneas ya fueron corrias antes\n",
    "#categorical_feature_mask = X_train.dtypes==object       # esto nos da un vector booleano \n",
    "#categorical_columns = X_train.columns[categorical_feature_mask].tolist()  # acá picnhamos los nombres de esas columnas\n",
    "#numerical_columns = X_train.columns[~X_train.columns.isin(categorical_columns)] # defino las numéricas como el complemento de las categóricas \n",
    "\n",
    "preprocessor = ColumnTransformer(transformers = [\n",
    "    ('num', numeric_transformer,numerical_columns),\n",
    "    ('cat', categorical_transformer,categorical_columns)\n",
    "])\n",
    "\n",
    "X_train_both_tranformations = preprocessor.fit_transform(X_train)\n",
    "\n"
   ]
  },
  {
   "cell_type": "markdown",
   "metadata": {},
   "source": [
    "##### Pensalo un segundo, hiciste algo Súper potente: definiste dos pipelines (numeric_transformer, y categorical_transformer)\n",
    "### y luego loss uniste en un único proceso!! \n",
    "Tenemos nuestro 'preprocessor', que vamos a concatenar luego con distintos modelos de M.Learning\n"
   ]
  },
  {
   "cell_type": "code",
   "execution_count": 16,
   "metadata": {},
   "outputs": [],
   "source": [
    "transf = preprocessor.transformers_\n",
    "\n",
    "numeric_names = preprocessor.transformers_[0][2].tolist()\n",
    "categorical_output_names = preprocessor.named_transformers_['cat'].named_steps['onehot'].get_feature_names().tolist()\n",
    "\n",
    "cols = numeric_names + categorical_output_names  # ver nota abajo\n"
   ]
  },
  {
   "cell_type": "markdown",
   "metadata": {},
   "source": [
    "#### ColumnTransformer \n",
    "* va concatenando las columnas que procesa en el orden que nosotros hayamos definido los stetps. \n",
    "#### Hay que ser muy cuidadoso de no pifiarle en estas cosas y entender bien la forma en que está trabajando nuestro pipeline\n",
    "##### Veamosslo"
   ]
  },
  {
   "cell_type": "code",
   "execution_count": 17,
   "metadata": {},
   "outputs": [
    {
     "data": {
      "text/html": [
       "<div>\n",
       "<style scoped>\n",
       "    .dataframe tbody tr th:only-of-type {\n",
       "        vertical-align: middle;\n",
       "    }\n",
       "\n",
       "    .dataframe tbody tr th {\n",
       "        vertical-align: top;\n",
       "    }\n",
       "\n",
       "    .dataframe thead th {\n",
       "        text-align: right;\n",
       "    }\n",
       "</style>\n",
       "<table border=\"1\" class=\"dataframe\">\n",
       "  <thead>\n",
       "    <tr style=\"text-align: right;\">\n",
       "      <th></th>\n",
       "      <th>gerp_gerp_nr</th>\n",
       "      <th>gerp_gerp_rs</th>\n",
       "      <th>linsight_value</th>\n",
       "      <th>phastcons_phastcons100_vert</th>\n",
       "      <th>phastcons_phastcons30_mamm</th>\n",
       "      <th>phylop_phylop100_vert</th>\n",
       "      <th>phylop_phylop100_vert_r</th>\n",
       "      <th>phylop_phylop30_mamm</th>\n",
       "      <th>segway_sum_score</th>\n",
       "      <th>segway_mean_score</th>\n",
       "      <th>...</th>\n",
       "      <th>x3_S</th>\n",
       "      <th>x3_missing</th>\n",
       "      <th>x4_E</th>\n",
       "      <th>x4_H</th>\n",
       "      <th>x4_K</th>\n",
       "      <th>x4_N</th>\n",
       "      <th>x4_missing</th>\n",
       "      <th>x5_N</th>\n",
       "      <th>x5_Y</th>\n",
       "      <th>x5_missing</th>\n",
       "    </tr>\n",
       "  </thead>\n",
       "  <tbody>\n",
       "    <tr>\n",
       "      <th>0</th>\n",
       "      <td>8.079213</td>\n",
       "      <td>-0.563422</td>\n",
       "      <td>39.740042</td>\n",
       "      <td>0.000000</td>\n",
       "      <td>0.002482</td>\n",
       "      <td>-0.656384</td>\n",
       "      <td>0.045468</td>\n",
       "      <td>-0.815921</td>\n",
       "      <td>1.034592</td>\n",
       "      <td>2.071918</td>\n",
       "      <td>...</td>\n",
       "      <td>0.0</td>\n",
       "      <td>1.0</td>\n",
       "      <td>0.0</td>\n",
       "      <td>0.0</td>\n",
       "      <td>0.0</td>\n",
       "      <td>0.0</td>\n",
       "      <td>1.0</td>\n",
       "      <td>1.0</td>\n",
       "      <td>0.0</td>\n",
       "      <td>0.0</td>\n",
       "    </tr>\n",
       "    <tr>\n",
       "      <th>1</th>\n",
       "      <td>7.687154</td>\n",
       "      <td>1.636608</td>\n",
       "      <td>39.740042</td>\n",
       "      <td>2.335669</td>\n",
       "      <td>2.481608</td>\n",
       "      <td>2.105365</td>\n",
       "      <td>2.647481</td>\n",
       "      <td>1.216766</td>\n",
       "      <td>1.034592</td>\n",
       "      <td>2.071918</td>\n",
       "      <td>...</td>\n",
       "      <td>0.0</td>\n",
       "      <td>1.0</td>\n",
       "      <td>0.0</td>\n",
       "      <td>0.0</td>\n",
       "      <td>0.0</td>\n",
       "      <td>0.0</td>\n",
       "      <td>1.0</td>\n",
       "      <td>1.0</td>\n",
       "      <td>0.0</td>\n",
       "      <td>0.0</td>\n",
       "    </tr>\n",
       "    <tr>\n",
       "      <th>2</th>\n",
       "      <td>6.819024</td>\n",
       "      <td>1.162617</td>\n",
       "      <td>39.740042</td>\n",
       "      <td>2.335669</td>\n",
       "      <td>2.373658</td>\n",
       "      <td>0.844049</td>\n",
       "      <td>1.657487</td>\n",
       "      <td>1.216766</td>\n",
       "      <td>1.034592</td>\n",
       "      <td>2.071918</td>\n",
       "      <td>...</td>\n",
       "      <td>0.0</td>\n",
       "      <td>0.0</td>\n",
       "      <td>0.0</td>\n",
       "      <td>0.0</td>\n",
       "      <td>0.0</td>\n",
       "      <td>1.0</td>\n",
       "      <td>0.0</td>\n",
       "      <td>0.0</td>\n",
       "      <td>1.0</td>\n",
       "      <td>0.0</td>\n",
       "    </tr>\n",
       "    <tr>\n",
       "      <th>3</th>\n",
       "      <td>7.981198</td>\n",
       "      <td>0.399463</td>\n",
       "      <td>39.740042</td>\n",
       "      <td>2.085753</td>\n",
       "      <td>2.481608</td>\n",
       "      <td>-0.000595</td>\n",
       "      <td>0.444926</td>\n",
       "      <td>0.152985</td>\n",
       "      <td>1.034592</td>\n",
       "      <td>2.071918</td>\n",
       "      <td>...</td>\n",
       "      <td>0.0</td>\n",
       "      <td>0.0</td>\n",
       "      <td>0.0</td>\n",
       "      <td>0.0</td>\n",
       "      <td>1.0</td>\n",
       "      <td>0.0</td>\n",
       "      <td>0.0</td>\n",
       "      <td>1.0</td>\n",
       "      <td>0.0</td>\n",
       "      <td>0.0</td>\n",
       "    </tr>\n",
       "    <tr>\n",
       "      <th>4</th>\n",
       "      <td>6.062910</td>\n",
       "      <td>1.290803</td>\n",
       "      <td>39.740042</td>\n",
       "      <td>2.335669</td>\n",
       "      <td>2.322785</td>\n",
       "      <td>1.956362</td>\n",
       "      <td>2.557859</td>\n",
       "      <td>1.394656</td>\n",
       "      <td>1.034592</td>\n",
       "      <td>2.071918</td>\n",
       "      <td>...</td>\n",
       "      <td>0.0</td>\n",
       "      <td>0.0</td>\n",
       "      <td>0.0</td>\n",
       "      <td>0.0</td>\n",
       "      <td>0.0</td>\n",
       "      <td>1.0</td>\n",
       "      <td>0.0</td>\n",
       "      <td>1.0</td>\n",
       "      <td>0.0</td>\n",
       "      <td>0.0</td>\n",
       "    </tr>\n",
       "  </tbody>\n",
       "</table>\n",
       "<p>5 rows × 60 columns</p>\n",
       "</div>"
      ],
      "text/plain": [
       "   gerp_gerp_nr  gerp_gerp_rs  linsight_value  phastcons_phastcons100_vert  \\\n",
       "0      8.079213     -0.563422       39.740042                     0.000000   \n",
       "1      7.687154      1.636608       39.740042                     2.335669   \n",
       "2      6.819024      1.162617       39.740042                     2.335669   \n",
       "3      7.981198      0.399463       39.740042                     2.085753   \n",
       "4      6.062910      1.290803       39.740042                     2.335669   \n",
       "\n",
       "   phastcons_phastcons30_mamm  phylop_phylop100_vert  phylop_phylop100_vert_r  \\\n",
       "0                    0.002482              -0.656384                 0.045468   \n",
       "1                    2.481608               2.105365                 2.647481   \n",
       "2                    2.373658               0.844049                 1.657487   \n",
       "3                    2.481608              -0.000595                 0.444926   \n",
       "4                    2.322785               1.956362                 2.557859   \n",
       "\n",
       "   phylop_phylop30_mamm  segway_sum_score  segway_mean_score  ...  x3_S  \\\n",
       "0             -0.815921          1.034592           2.071918  ...   0.0   \n",
       "1              1.216766          1.034592           2.071918  ...   0.0   \n",
       "2              1.216766          1.034592           2.071918  ...   0.0   \n",
       "3              0.152985          1.034592           2.071918  ...   0.0   \n",
       "4              1.394656          1.034592           2.071918  ...   0.0   \n",
       "\n",
       "   x3_missing  x4_E  x4_H  x4_K  x4_N  x4_missing  x5_N  x5_Y  x5_missing  \n",
       "0         1.0   0.0   0.0   0.0   0.0         1.0   1.0   0.0         0.0  \n",
       "1         1.0   0.0   0.0   0.0   0.0         1.0   1.0   0.0         0.0  \n",
       "2         0.0   0.0   0.0   0.0   1.0         0.0   0.0   1.0         0.0  \n",
       "3         0.0   0.0   0.0   1.0   0.0         0.0   1.0   0.0         0.0  \n",
       "4         0.0   0.0   0.0   0.0   1.0         0.0   1.0   0.0         0.0  \n",
       "\n",
       "[5 rows x 60 columns]"
      ]
     },
     "execution_count": 17,
     "metadata": {},
     "output_type": "execute_result"
    }
   ],
   "source": [
    "pd.DataFrame(X_train_both_tranformations,columns = cols).head()"
   ]
  },
  {
   "cell_type": "markdown",
   "metadata": {},
   "source": [
    "# Hahora, vamos a integrar nuestro preprocessor con un modelo súper simple de ML. "
   ]
  },
  {
   "cell_type": "code",
   "execution_count": 18,
   "metadata": {},
   "outputs": [
    {
     "name": "stderr",
     "output_type": "stream",
     "text": [
      "/usr/local/lib/python3.6/dist-packages/sklearn/utils/validation.py:724: DataConversionWarning: A column-vector y was passed when a 1d array was expected. Please change the shape of y to (n_samples, ), for example using ravel().\n",
      "  y = column_or_1d(y, warn=True)\n",
      "/usr/local/lib/python3.6/dist-packages/sklearn/linear_model/logistic.py:947: ConvergenceWarning: lbfgs failed to converge. Increase the number of iterations.\n",
      "  \"of iterations.\", ConvergenceWarning)\n"
     ]
    }
   ],
   "source": [
    "### Construimos el Pipeline\n",
    "## Regresion Logistica SIN regularización\n",
    "pipeline = Pipeline(steps = [('preprocessing',preprocessor),\n",
    "                             ('clasificador',LogisticRegression(penalty = 'none',solver = 'lbfgs'))])\n",
    "\n",
    "#Entrenamiento\n",
    "pipeline = pipeline.fit(X_train, y_train)\n",
    "\n",
    "#Extraemos las predicciones\n",
    "predictions = pd.Series(pipeline.predict(X_test))"
   ]
  },
  {
   "cell_type": "markdown",
   "metadata": {},
   "source": [
    "* Y en solo 3 líneas de código ahora, hemos generado un modelo con su proprio preprocesamiento de datos incluido\n",
    "\n",
    "* Que el preprocesamiento esté inmerso en el modelo, y no se haga por fuera del mismo nos aportará robustez, poder de generalización entre otras ventajas. Además, se podrá meter dentro de nuestros procedimientos de validación cruzada con total prolijidad "
   ]
  },
  {
   "cell_type": "markdown",
   "metadata": {},
   "source": [
    "#### Notas para finalizar, sobre preprocesado de datos \n",
    "* 1) No imputar ni normalizar los features categóricos como si fueran continuos. \n",
    "* Para evitar este fue fundamental nuestra unión de pipelines. \n",
    "\n",
    "\n",
    "* 2) Un error general e importante de entender, es evitar aplicar transformaciones globales al dataset antes de hacer el train-test-split (o incluso despues de haberlo hecho) sin incluirlos en el modelo  mismo. \n",
    "*  Aplicado una operación global al X_train te lleva a una mala prárctica de validación cruzada (veremos eso luego eso).\n",
    "* porque conduce a una sobreestimación de la performance en el proceso de validación cruzada. \n",
    "\n",
    "* Esos implica que, cuando hagamos validación cruzada, y separemos nuestro dataset en grupos para entrenar y otros para validar, el set con que se entrene va a tener info de la distribución de features  en el evaluation set.\n"
   ]
  },
  {
   "cell_type": "markdown",
   "metadata": {},
   "source": [
    "## Ahora exploremos un poco los resultados de este modelo simple que construimos"
   ]
  },
  {
   "cell_type": "code",
   "execution_count": 35,
   "metadata": {},
   "outputs": [
    {
     "data": {
      "text/html": [
       "<div>\n",
       "<style scoped>\n",
       "    .dataframe tbody tr th:only-of-type {\n",
       "        vertical-align: middle;\n",
       "    }\n",
       "\n",
       "    .dataframe tbody tr th {\n",
       "        vertical-align: top;\n",
       "    }\n",
       "\n",
       "    .dataframe thead th {\n",
       "        text-align: right;\n",
       "    }\n",
       "</style>\n",
       "<table border=\"1\" class=\"dataframe\">\n",
       "  <thead>\n",
       "    <tr style=\"text-align: right;\">\n",
       "      <th></th>\n",
       "      <th>beningn</th>\n",
       "      <th>pathog</th>\n",
       "    </tr>\n",
       "  </thead>\n",
       "  <tbody>\n",
       "    <tr>\n",
       "      <th>0</th>\n",
       "      <td>0.804288</td>\n",
       "      <td>0.195712</td>\n",
       "    </tr>\n",
       "    <tr>\n",
       "      <th>1</th>\n",
       "      <td>0.880471</td>\n",
       "      <td>0.119529</td>\n",
       "    </tr>\n",
       "    <tr>\n",
       "      <th>2</th>\n",
       "      <td>0.711064</td>\n",
       "      <td>0.288936</td>\n",
       "    </tr>\n",
       "    <tr>\n",
       "      <th>3</th>\n",
       "      <td>0.984968</td>\n",
       "      <td>0.015032</td>\n",
       "    </tr>\n",
       "    <tr>\n",
       "      <th>4</th>\n",
       "      <td>0.990558</td>\n",
       "      <td>0.009442</td>\n",
       "    </tr>\n",
       "  </tbody>\n",
       "</table>\n",
       "</div>"
      ],
      "text/plain": [
       "    beningn    pathog\n",
       "0  0.804288  0.195712\n",
       "1  0.880471  0.119529\n",
       "2  0.711064  0.288936\n",
       "3  0.984968  0.015032\n",
       "4  0.990558  0.009442"
      ]
     },
     "execution_count": 35,
     "metadata": {},
     "output_type": "execute_result"
    }
   ],
   "source": [
    "probas = pd.DataFrame(pipeline.predict_proba(X_test),columns = ['beningn','pathog'])\n",
    "y_pred = probas['pathog']\n",
    "probas.head()"
   ]
  },
  {
   "cell_type": "markdown",
   "metadata": {},
   "source": [
    "## Cómo e distribuyen nuestro score?"
   ]
  },
  {
   "cell_type": "code",
   "execution_count": 36,
   "metadata": {},
   "outputs": [
    {
     "data": {
      "text/plain": [
       "<matplotlib.axes._subplots.AxesSubplot at 0x7f0973feae48>"
      ]
     },
     "execution_count": 36,
     "metadata": {},
     "output_type": "execute_result"
    },
    {
     "data": {
      "image/png": "[encoded data removed]",
      "text/plain": [
       "<Figure size 576x288 with 1 Axes>"
      ]
     },
     "metadata": {
      "needs_background": "light"
     },
     "output_type": "display_data"
    }
   ],
   "source": [
    "y_pred.hist(bins = 50)"
   ]
  },
  {
   "cell_type": "markdown",
   "metadata": {},
   "source": [
    "## Cuál es su performance? (AUCs)\n",
    "* AUC_roc\n",
    "* AUC_prcision_recall"
   ]
  },
  {
   "cell_type": "code",
   "execution_count": 37,
   "metadata": {},
   "outputs": [
    {
     "data": {
      "text/plain": [
       "Text(0.5, 0.98, 'AUC - ROC & Prec-Recall')"
      ]
     },
     "execution_count": 37,
     "metadata": {},
     "output_type": "execute_result"
    },
    {
     "data": {
      "image/png": "[encoded data removed]",
      "text/plain": [
       "<Figure size 576x288 with 2 Axes>"
      ]
     },
     "metadata": {
      "needs_background": "light"
     },
     "output_type": "display_data"
    }
   ],
   "source": [
    "# para plotear\n",
    "fig, (ax1, ax2) = plt.subplots(1, 2)\n",
    "matplotlib.rcParams['figure.figsize'] = [8, 4]\n",
    "\n",
    "## ROC curve\n",
    "roc_auc = metrics.roc_auc_score(y_test, y_pred)\n",
    "fpr, tpr, thresholds = metrics.roc_curve(y_test, y_pred, pos_label=1)\n",
    "ax1.plot(fpr, tpr, color='darkorange', label=\"ROC curve of class %.2f\"%roc_auc)\n",
    "ax1.legend(loc=\"lower right\")\n",
    "\n",
    "## precision recall curve\n",
    "precision, recall, thresholds = metrics.precision_recall_curve(y_test, y_pred)\n",
    "aucpr =  metrics.average_precision_score(y_test, y_pred)\n",
    "ax2.plot(precision, recall, color='darkorange', label=\"AUC Prec-Recall %.2f\"%aucpr)\n",
    "ax2.legend(loc=\"lower right\")\n",
    "\n",
    "\n",
    "fig.suptitle('AUC - ROC & Prec-Recall')"
   ]
  },
  {
   "cell_type": "markdown",
   "metadata": {},
   "source": [
    "#### El problema pinta fácil, una regresión logística (modelo lineal generalizado), sin siquiera haber sido entrenada con Validación cruzada, da AUC roc arriba de 0.9! "
   ]
  },
  {
   "cell_type": "markdown",
   "metadata": {},
   "source": [
    "## Y donde en qué variables está concentrado el poder predictivo?"
   ]
  },
  {
   "cell_type": "code",
   "execution_count": 38,
   "metadata": {},
   "outputs": [
    {
     "data": {
      "text/plain": [
       "<matplotlib.axes._subplots.AxesSubplot at 0x7f09757fe160>"
      ]
     },
     "execution_count": 38,
     "metadata": {},
     "output_type": "execute_result"
    },
    {
     "data": {
      "image/png": "[encoded data removed]",
      "text/plain": [
       "<Figure size 576x288 with 1 Axes>"
      ]
     },
     "metadata": {
      "needs_background": "light"
     },
     "output_type": "display_data"
    }
   ],
   "source": [
    "lr = pipeline.named_steps['clasificador']\n",
    "coefs = pd.Series(2**lr.coef_[0])\n",
    "coefs.hist(bins =  50)"
   ]
  },
  {
   "cell_type": "code",
   "execution_count": 45,
   "metadata": {},
   "outputs": [
    {
     "data": {
      "text/plain": [
       "gerp_gerp_nr                   2.117538\n",
       "gerp_gerp_rs                   1.641178\n",
       "linsight_value                 1.539356\n",
       "phastcons_phastcons100_vert    1.426942\n",
       "x5_Y                           0.462975\n",
       "x5_missing                     0.210463\n",
       "dtype: float64"
      ]
     },
     "execution_count": 45,
     "metadata": {},
     "output_type": "execute_result"
    }
   ],
   "source": [
    "coefs.index = cols\n",
    "coefs = coefs.sort_values(ascending=False)\n",
    "coefs[(coefs > 1.4)|(coefs<0.5)]"
   ]
  },
  {
   "cell_type": "markdown",
   "metadata": {},
   "source": [
    "### Qué coeficientes son estadísticamente significativos?\n",
    "\n",
    "### Son robustos estos resultados? \n",
    "* El orden relativo de importancia fluctua con las itearaciones? En qué medida?\n",
    "\n",
    "\n",
    "### Cómo cambia si implementamos el término de regularización? \n",
    "* Se puede extraer un p-value y un intervalo de confianza para los coeficientes de c/variable en el caso de usar regularización?\n",
    "* De qué modo lo deberíamos implementar?\n",
    "\n",
    "* Que coeficientes sosbreviven al ir aumentando el término de regularización? \n",
    "* Esto depende de si usamos L1 o L2?\n"
   ]
  }
 ],
 "metadata": {
  "kernelspec": {
   "display_name": "Python 3",
   "language": "python",
   "name": "python3"
  },
  "language_info": {
   "codemirror_mode": {
    "name": "ipython",
    "version": 3
   },
   "file_extension": ".py",
   "mimetype": "text/x-python",
   "name": "python",
   "nbconvert_exporter": "python",
   "pygments_lexer": "ipython3",
   "version": "3.6.9"
  }
 },
 "nbformat": 4,
 "nbformat_minor": 2
}
